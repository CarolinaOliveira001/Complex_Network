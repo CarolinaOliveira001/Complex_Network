{
  "nbformat": 4,
  "nbformat_minor": 0,
  "metadata": {
    "colab": {
      "provenance": [],
      "authorship_tag": "ABX9TyMm1dmOinIR0kLrfjOJFLKO",
      "include_colab_link": true
    },
    "kernelspec": {
      "name": "python3",
      "display_name": "Python 3"
    },
    "language_info": {
      "name": "python"
    }
  },
  "cells": [
    {
      "cell_type": "markdown",
      "metadata": {
        "id": "view-in-github",
        "colab_type": "text"
      },
      "source": [
        "<a href=\"https://colab.research.google.com/github/CarolinaOliveira001/Complex_Network/blob/main/Assignment9.ipynb\" target=\"_parent\"><img src=\"https://colab.research.google.com/assets/colab-badge.svg\" alt=\"Open In Colab\"/></a>"
      ]
    },
    {
      "cell_type": "code",
      "execution_count": 12,
      "metadata": {
        "colab": {
          "base_uri": "https://localhost:8080/",
          "height": 74
        },
        "id": "nw4CQqcO4Jqo",
        "outputId": "7515b727-f254-4d33-c002-9400638f19cb"
      },
      "outputs": [
        {
          "output_type": "display_data",
          "data": {
            "text/plain": [
              "<IPython.core.display.HTML object>"
            ],
            "text/html": [
              "\n",
              "     <input type=\"file\" id=\"files-fbafefdb-2328-48e5-824b-b55f1da25ca1\" name=\"files[]\" multiple disabled\n",
              "        style=\"border:none\" />\n",
              "     <output id=\"result-fbafefdb-2328-48e5-824b-b55f1da25ca1\">\n",
              "      Upload widget is only available when the cell has been executed in the\n",
              "      current browser session. Please rerun this cell to enable.\n",
              "      </output>\n",
              "      <script>// Copyright 2017 Google LLC\n",
              "//\n",
              "// Licensed under the Apache License, Version 2.0 (the \"License\");\n",
              "// you may not use this file except in compliance with the License.\n",
              "// You may obtain a copy of the License at\n",
              "//\n",
              "//      http://www.apache.org/licenses/LICENSE-2.0\n",
              "//\n",
              "// Unless required by applicable law or agreed to in writing, software\n",
              "// distributed under the License is distributed on an \"AS IS\" BASIS,\n",
              "// WITHOUT WARRANTIES OR CONDITIONS OF ANY KIND, either express or implied.\n",
              "// See the License for the specific language governing permissions and\n",
              "// limitations under the License.\n",
              "\n",
              "/**\n",
              " * @fileoverview Helpers for google.colab Python module.\n",
              " */\n",
              "(function(scope) {\n",
              "function span(text, styleAttributes = {}) {\n",
              "  const element = document.createElement('span');\n",
              "  element.textContent = text;\n",
              "  for (const key of Object.keys(styleAttributes)) {\n",
              "    element.style[key] = styleAttributes[key];\n",
              "  }\n",
              "  return element;\n",
              "}\n",
              "\n",
              "// Max number of bytes which will be uploaded at a time.\n",
              "const MAX_PAYLOAD_SIZE = 100 * 1024;\n",
              "\n",
              "function _uploadFiles(inputId, outputId) {\n",
              "  const steps = uploadFilesStep(inputId, outputId);\n",
              "  const outputElement = document.getElementById(outputId);\n",
              "  // Cache steps on the outputElement to make it available for the next call\n",
              "  // to uploadFilesContinue from Python.\n",
              "  outputElement.steps = steps;\n",
              "\n",
              "  return _uploadFilesContinue(outputId);\n",
              "}\n",
              "\n",
              "// This is roughly an async generator (not supported in the browser yet),\n",
              "// where there are multiple asynchronous steps and the Python side is going\n",
              "// to poll for completion of each step.\n",
              "// This uses a Promise to block the python side on completion of each step,\n",
              "// then passes the result of the previous step as the input to the next step.\n",
              "function _uploadFilesContinue(outputId) {\n",
              "  const outputElement = document.getElementById(outputId);\n",
              "  const steps = outputElement.steps;\n",
              "\n",
              "  const next = steps.next(outputElement.lastPromiseValue);\n",
              "  return Promise.resolve(next.value.promise).then((value) => {\n",
              "    // Cache the last promise value to make it available to the next\n",
              "    // step of the generator.\n",
              "    outputElement.lastPromiseValue = value;\n",
              "    return next.value.response;\n",
              "  });\n",
              "}\n",
              "\n",
              "/**\n",
              " * Generator function which is called between each async step of the upload\n",
              " * process.\n",
              " * @param {string} inputId Element ID of the input file picker element.\n",
              " * @param {string} outputId Element ID of the output display.\n",
              " * @return {!Iterable<!Object>} Iterable of next steps.\n",
              " */\n",
              "function* uploadFilesStep(inputId, outputId) {\n",
              "  const inputElement = document.getElementById(inputId);\n",
              "  inputElement.disabled = false;\n",
              "\n",
              "  const outputElement = document.getElementById(outputId);\n",
              "  outputElement.innerHTML = '';\n",
              "\n",
              "  const pickedPromise = new Promise((resolve) => {\n",
              "    inputElement.addEventListener('change', (e) => {\n",
              "      resolve(e.target.files);\n",
              "    });\n",
              "  });\n",
              "\n",
              "  const cancel = document.createElement('button');\n",
              "  inputElement.parentElement.appendChild(cancel);\n",
              "  cancel.textContent = 'Cancel upload';\n",
              "  const cancelPromise = new Promise((resolve) => {\n",
              "    cancel.onclick = () => {\n",
              "      resolve(null);\n",
              "    };\n",
              "  });\n",
              "\n",
              "  // Wait for the user to pick the files.\n",
              "  const files = yield {\n",
              "    promise: Promise.race([pickedPromise, cancelPromise]),\n",
              "    response: {\n",
              "      action: 'starting',\n",
              "    }\n",
              "  };\n",
              "\n",
              "  cancel.remove();\n",
              "\n",
              "  // Disable the input element since further picks are not allowed.\n",
              "  inputElement.disabled = true;\n",
              "\n",
              "  if (!files) {\n",
              "    return {\n",
              "      response: {\n",
              "        action: 'complete',\n",
              "      }\n",
              "    };\n",
              "  }\n",
              "\n",
              "  for (const file of files) {\n",
              "    const li = document.createElement('li');\n",
              "    li.append(span(file.name, {fontWeight: 'bold'}));\n",
              "    li.append(span(\n",
              "        `(${file.type || 'n/a'}) - ${file.size} bytes, ` +\n",
              "        `last modified: ${\n",
              "            file.lastModifiedDate ? file.lastModifiedDate.toLocaleDateString() :\n",
              "                                    'n/a'} - `));\n",
              "    const percent = span('0% done');\n",
              "    li.appendChild(percent);\n",
              "\n",
              "    outputElement.appendChild(li);\n",
              "\n",
              "    const fileDataPromise = new Promise((resolve) => {\n",
              "      const reader = new FileReader();\n",
              "      reader.onload = (e) => {\n",
              "        resolve(e.target.result);\n",
              "      };\n",
              "      reader.readAsArrayBuffer(file);\n",
              "    });\n",
              "    // Wait for the data to be ready.\n",
              "    let fileData = yield {\n",
              "      promise: fileDataPromise,\n",
              "      response: {\n",
              "        action: 'continue',\n",
              "      }\n",
              "    };\n",
              "\n",
              "    // Use a chunked sending to avoid message size limits. See b/62115660.\n",
              "    let position = 0;\n",
              "    do {\n",
              "      const length = Math.min(fileData.byteLength - position, MAX_PAYLOAD_SIZE);\n",
              "      const chunk = new Uint8Array(fileData, position, length);\n",
              "      position += length;\n",
              "\n",
              "      const base64 = btoa(String.fromCharCode.apply(null, chunk));\n",
              "      yield {\n",
              "        response: {\n",
              "          action: 'append',\n",
              "          file: file.name,\n",
              "          data: base64,\n",
              "        },\n",
              "      };\n",
              "\n",
              "      let percentDone = fileData.byteLength === 0 ?\n",
              "          100 :\n",
              "          Math.round((position / fileData.byteLength) * 100);\n",
              "      percent.textContent = `${percentDone}% done`;\n",
              "\n",
              "    } while (position < fileData.byteLength);\n",
              "  }\n",
              "\n",
              "  // All done.\n",
              "  yield {\n",
              "    response: {\n",
              "      action: 'complete',\n",
              "    }\n",
              "  };\n",
              "}\n",
              "\n",
              "scope.google = scope.google || {};\n",
              "scope.google.colab = scope.google.colab || {};\n",
              "scope.google.colab._files = {\n",
              "  _uploadFiles,\n",
              "  _uploadFilesContinue,\n",
              "};\n",
              "})(self);\n",
              "</script> "
            ]
          },
          "metadata": {}
        },
        {
          "output_type": "stream",
          "name": "stdout",
          "text": [
            "Saving 414.edges to 414 (1).edges\n"
          ]
        }
      ],
      "source": [
        "from google.colab import files\n",
        "uploaded = files.upload()"
      ]
    },
    {
      "cell_type": "markdown",
      "source": [
        "Here are the imports to solve the following the exercise."
      ],
      "metadata": {
        "id": "ebHtig2otJx0"
      }
    },
    {
      "cell_type": "code",
      "source": [
        "import networkx as nx\n",
        "from random import sample\n",
        "import numpy as np\n",
        "from sklearn.metrics import roc_curve, roc_auc_score, precision_score, accuracy_score\n",
        "import matplotlib.pyplot as plt"
      ],
      "metadata": {
        "id": "Mf-XTXiL4fky"
      },
      "execution_count": 13,
      "outputs": []
    },
    {
      "cell_type": "markdown",
      "source": [
        "We create two graph from the Facebook ego. We named them graphFacebook and trueGraphFacebook. The latter one will stay the same the whole exercise, however graphFacebook will take some changes."
      ],
      "metadata": {
        "id": "dhNoeBOKtXMr"
      }
    },
    {
      "cell_type": "code",
      "source": [
        "filenameFacebook = \"414.edges\"\n",
        "\n",
        "graphFacebook = nx.Graph()\n",
        "trueGraphFacebook = nx.Graph()\n",
        "\n",
        "with open(filenameFacebook) as f:\n",
        "    for line in f:\n",
        "        x = line.split()\n",
        "        a = int(x[0])\n",
        "        b = int(x[1])\n",
        "        \n",
        "        if a not in list(graphFacebook.nodes):\n",
        "            graphFacebook.add_node(a)\n",
        "            trueGraphFacebook.add_node(a)\n",
        "        if b not in list(graphFacebook.nodes):\n",
        "            graphFacebook.add_node(b)\n",
        "            trueGraphFacebook.add_node(b)\n",
        "\n",
        "        graphFacebook.add_edge(a, b)\n",
        "        trueGraphFacebook.add_edge(a, b)"
      ],
      "metadata": {
        "id": "E8Vy4Yj24vod"
      },
      "execution_count": 14,
      "outputs": []
    },
    {
      "cell_type": "markdown",
      "source": [
        "First we pick 10% of the edges to delete them from the graphFacebook. The edges will be picked randomly. Then we save the edges of the graphFacebook in a list called graphFacebookWithoutRemovedEdges."
      ],
      "metadata": {
        "id": "bJI73MoIuGnk"
      }
    },
    {
      "cell_type": "code",
      "source": [
        "random_edges = set(sample(list(graphFacebook.edges()), int(round(graphFacebook.number_of_edges()*10/100, 0))))"
      ],
      "metadata": {
        "id": "IJ_DM4fD5dWk"
      },
      "execution_count": 15,
      "outputs": []
    },
    {
      "cell_type": "code",
      "source": [
        "for edge in random_edges:\n",
        "  graphFacebook.remove_edge(edge[0], edge[1])"
      ],
      "metadata": {
        "id": "WB9S6FjP9E7r"
      },
      "execution_count": 16,
      "outputs": []
    },
    {
      "cell_type": "code",
      "source": [
        "graphFacebookWithoutRemovedEdges = list(graphFacebook.edges())"
      ],
      "metadata": {
        "id": "d6NOSVjRAHrZ"
      },
      "execution_count": 17,
      "outputs": []
    },
    {
      "cell_type": "markdown",
      "source": [
        "We chose the Adamic-Adar index algorithm to predict the deleted edges. Then we save the predicted edge with the corresponding index in a list. We sort this list by the index in a descending order. We can now get the highest index and we divide each index in the list to get the probability."
      ],
      "metadata": {
        "id": "szWG-1dUvVy8"
      }
    },
    {
      "cell_type": "code",
      "source": [
        "predictedModel = nx.adamic_adar_index(graphFacebook)"
      ],
      "metadata": {
        "id": "_oD7I9A69E2p"
      },
      "execution_count": 18,
      "outputs": []
    },
    {
      "cell_type": "code",
      "source": [
        "listOfPredictedEdges = []\n",
        "\n",
        "for u, v, p in predictedModel:\n",
        "    listOfPredictedEdges.append((u, v, p))"
      ],
      "metadata": {
        "id": "LKKS4RfT9Et2"
      },
      "execution_count": 19,
      "outputs": []
    },
    {
      "cell_type": "code",
      "source": [
        "listOfPredictedEdges = sorted(listOfPredictedEdges, key=lambda tup: tup[2], reverse=True)"
      ],
      "metadata": {
        "id": "CRccsYi7V68b"
      },
      "execution_count": 20,
      "outputs": []
    },
    {
      "cell_type": "code",
      "source": [
        "highestAdamicAdarModel = listOfPredictedEdges[0][2]"
      ],
      "metadata": {
        "id": "uhsGE5OKOLAs"
      },
      "execution_count": 21,
      "outputs": []
    },
    {
      "cell_type": "code",
      "source": [
        "listOfProbabilityEdges = []\n",
        "\n",
        "for (a, b, p) in listOfPredictedEdges:\n",
        "  listOfProbabilityEdges.append([(a, b), p/highestAdamicAdarModel])"
      ],
      "metadata": {
        "id": "ZZy4V8cL-vq5"
      },
      "execution_count": 22,
      "outputs": []
    },
    {
      "cell_type": "markdown",
      "source": [
        "Since we need to account also the non-edges predicted, we decided to create a complete graph with a list of node from the trueGraphFacebook. From the complete graph, we get all the possible edges between the nodes and substract the one from the graphFacebook. The list of of the previous edges will the all the possible to predicted edges from the model."
      ],
      "metadata": {
        "id": "gcU_zactwrxq"
      }
    },
    {
      "cell_type": "code",
      "source": [
        "completetrueGraphFacebook = nx.complete_graph(trueGraphFacebook.nodes())"
      ],
      "metadata": {
        "id": "rQ6-9-RW5Zz5"
      },
      "execution_count": 23,
      "outputs": []
    },
    {
      "cell_type": "code",
      "source": [
        "listOfAllPossibleEdges = list(completetrueGraphFacebook.edges())"
      ],
      "metadata": {
        "id": "89V-ydL36pCq"
      },
      "execution_count": 24,
      "outputs": []
    },
    {
      "cell_type": "code",
      "source": [
        "for edge in graphFacebookWithoutRemovedEdges:\n",
        "  listOfAllPossibleEdges.remove(edge)"
      ],
      "metadata": {
        "id": "FgW55bGeDAJX"
      },
      "execution_count": 25,
      "outputs": []
    },
    {
      "cell_type": "markdown",
      "source": [
        "We will only look at the edges which the model can predict.\n",
        "First we create a list of 1 if the edge at a specific position in the listOfAllPossibleEdges is also in the list of edges from the trueGraphFacebook."
      ],
      "metadata": {
        "id": "d9SCBX0p2ajD"
      }
    },
    {
      "cell_type": "code",
      "source": [
        "listOfTrueGraphFacebooksEdges = []\n",
        "\n",
        "for edge in listOfAllPossibleEdges:\n",
        "  if edge in list(trueGraphFacebook.edges()):\n",
        "    listOfTrueGraphFacebooksEdges.append(1)\n",
        "  else:\n",
        "    listOfTrueGraphFacebooksEdges.append(0)"
      ],
      "metadata": {
        "id": "S7hZ4l5473XE"
      },
      "execution_count": 26,
      "outputs": []
    },
    {
      "cell_type": "markdown",
      "source": [
        "We create a listOfProbabilityGraphFacebooksEdges which has the probability given by the model at their specific position in the listOfAllPossibleEdges. If this edges is not in the listOfProbabilityEdges, then we will put 0 as the probability."
      ],
      "metadata": {
        "id": "mbE5c6544pgI"
      }
    },
    {
      "cell_type": "code",
      "source": [
        "listOfProbabilityGraphFacebooksEdges = []\n",
        "\n",
        "for edgeA in listOfAllPossibleEdges:\n",
        "  valueHelper = []\n",
        "  for idx in range(0, len(listOfProbabilityEdges)):\n",
        "    edgeB = listOfProbabilityEdges[idx][0]\n",
        "    if edgeA == edgeB:\n",
        "      valueHelper.append(listOfProbabilityEdges[idx][1])\n",
        "    \n",
        "  if len(valueHelper) == 0:\n",
        "    listOfProbabilityGraphFacebooksEdges.append(0)\n",
        "  else:\n",
        "    listOfProbabilityGraphFacebooksEdges.append(valueHelper[0])"
      ],
      "metadata": {
        "id": "y-MmhFLK9RT6"
      },
      "execution_count": 27,
      "outputs": []
    },
    {
      "cell_type": "markdown",
      "source": [
        "The listOfGraphFacebooksEdges will have either 0 or 1 at each entry. It will be 1 if the probability of the predict edge by the model is bigger than 0.5 and 0 otherwise."
      ],
      "metadata": {
        "id": "e_59UAg444AX"
      }
    },
    {
      "cell_type": "code",
      "source": [
        "listOfGraphFacebooksEdges = []\n",
        "\n",
        "for edgeA in listOfAllPossibleEdges:\n",
        "  valueHelper = []\n",
        "  for idx in range(0, len(listOfProbabilityEdges)):\n",
        "    edgeB = listOfProbabilityEdges[idx][0]\n",
        "    if edgeA == edgeB:\n",
        "      if listOfProbabilityEdges[idx][1] > 0.5:\n",
        "        valueHelper.append(1)\n",
        "      else:\n",
        "        valueHelper.append(0)\n",
        "  \n",
        "  if(len(valueHelper) == 0):\n",
        "    listOfGraphFacebooksEdges.append(0)\n",
        "  else:\n",
        "    listOfGraphFacebooksEdges.append(valueHelper[0])"
      ],
      "metadata": {
        "id": "5-Rfa_qmTWUI"
      },
      "execution_count": 28,
      "outputs": []
    },
    {
      "cell_type": "markdown",
      "source": [
        "Precision"
      ],
      "metadata": {
        "id": "2ds2ftQGNfXw"
      }
    },
    {
      "cell_type": "markdown",
      "source": [
        "We calculate the precision between listOfTrueGraphFacebookEdges and listOfGraphFacebookEdges."
      ],
      "metadata": {
        "id": "CcokJDNs7LFI"
      }
    },
    {
      "cell_type": "code",
      "source": [
        "precision = precision_score(listOfTrueGraphFacebooksEdges, listOfGraphFacebooksEdges)"
      ],
      "metadata": {
        "id": "goAPfuKv6D9i"
      },
      "execution_count": 29,
      "outputs": []
    },
    {
      "cell_type": "code",
      "source": [
        "print(f'Precision: {precision}')"
      ],
      "metadata": {
        "colab": {
          "base_uri": "https://localhost:8080/"
        },
        "id": "cjr-7ICw6D69",
        "outputId": "6698c7ab-fad7-411e-8376-0d1af4f2787e"
      },
      "execution_count": 30,
      "outputs": [
        {
          "output_type": "stream",
          "name": "stdout",
          "text": [
            "Precision: 0.3888888888888889\n"
          ]
        }
      ]
    },
    {
      "cell_type": "markdown",
      "source": [
        "Accuracy"
      ],
      "metadata": {
        "id": "w7aoderQW99j"
      }
    },
    {
      "cell_type": "markdown",
      "source": [
        "We calculate the accuracy between listOfTrueGraphFacebookEdges and listOfGraphFacebookEdges."
      ],
      "metadata": {
        "id": "GDT2JSro76y-"
      }
    },
    {
      "cell_type": "code",
      "source": [
        "accuracy = accuracy_score(listOfTrueGraphFacebooksEdges, listOfGraphFacebooksEdges)"
      ],
      "metadata": {
        "id": "8yx61nNm6D3n"
      },
      "execution_count": 31,
      "outputs": []
    },
    {
      "cell_type": "code",
      "source": [
        "print(f'Accuracy: {accuracy}')"
      ],
      "metadata": {
        "colab": {
          "base_uri": "https://localhost:8080/"
        },
        "id": "ao3iryP96D0u",
        "outputId": "587651f8-6126-46f7-af60-13721b5e0842"
      },
      "execution_count": 32,
      "outputs": [
        {
          "output_type": "stream",
          "name": "stdout",
          "text": [
            "Accuracy: 0.9795876075018133\n"
          ]
        }
      ]
    },
    {
      "cell_type": "markdown",
      "source": [
        "ROC"
      ],
      "metadata": {
        "id": "UB4asin2NSAZ"
      }
    },
    {
      "cell_type": "markdown",
      "source": [
        "We calculate the ROC curve between the listOfTrueGraphFacebooksEdges and listOfProbabilityGraphFacebooksEdges. At the end we plot it."
      ],
      "metadata": {
        "id": "GuU8r4fO5Z9s"
      }
    },
    {
      "cell_type": "code",
      "source": [
        "complementOfSpecificity, sensitivity, __ = roc_curve(listOfTrueGraphFacebooksEdges, listOfProbabilityGraphFacebooksEdges)"
      ],
      "metadata": {
        "id": "m2Q3uzckKtvH"
      },
      "execution_count": 33,
      "outputs": []
    },
    {
      "cell_type": "code",
      "source": [
        "def plot_roc_curve(fpr, tpr):\n",
        "    plt.plot(fpr, tpr)\n",
        "    plt.xlabel('False Positive Rate')\n",
        "    plt.ylabel('True Positive Rate')"
      ],
      "metadata": {
        "id": "PFO6LZJLtgVY"
      },
      "execution_count": 34,
      "outputs": []
    },
    {
      "cell_type": "code",
      "source": [
        "plot_roc_curve(complementOfSpecificity, sensitivity)"
      ],
      "metadata": {
        "colab": {
          "base_uri": "https://localhost:8080/",
          "height": 279
        },
        "id": "MmCcwvMI9g5W",
        "outputId": "2582da28-3bfe-48d3-b808-82fe20d78d07"
      },
      "execution_count": 35,
      "outputs": [
        {
          "output_type": "display_data",
          "data": {
            "text/plain": [
              "<Figure size 432x288 with 1 Axes>"
            ],
            "image/png": "[encoded data removed]"
          },
          "metadata": {
            "needs_background": "light"
          }
        }
      ]
    },
    {
      "cell_type": "markdown",
      "source": [
        "AUROC"
      ],
      "metadata": {
        "id": "PpoxA2gqNUSa"
      }
    },
    {
      "cell_type": "markdown",
      "source": [
        "We also calculate the area under the ROC curve and this is the output."
      ],
      "metadata": {
        "id": "YkNlyDnd5oNX"
      }
    },
    {
      "cell_type": "code",
      "source": [
        "print(f'AUC score: {roc_auc_score(listOfTrueGraphFacebooksEdges, listOfProbabilityGraphFacebooksEdges)}')"
      ],
      "metadata": {
        "colab": {
          "base_uri": "https://localhost:8080/"
        },
        "id": "rukUCgcItgSi",
        "outputId": "33ec15d2-8b26-410c-bfc2-ed4acc085200"
      },
      "execution_count": 36,
      "outputs": [
        {
          "output_type": "stream",
          "name": "stdout",
          "text": [
            "AUC score: 0.692911764302091\n"
          ]
        }
      ]
    }
  ]
}