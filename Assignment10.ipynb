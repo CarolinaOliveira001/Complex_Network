{
  "nbformat": 4,
  "nbformat_minor": 0,
  "metadata": {
    "colab": {
      "provenance": [],
      "collapsed_sections": [
        "nn74Toe_zefR"
      ],
      "authorship_tag": "ABX9TyMk1pN/Bk/Q6L4zW/mmmcf4",
      "include_colab_link": true
    },
    "kernelspec": {
      "name": "python3",
      "display_name": "Python 3"
    },
    "language_info": {
      "name": "python"
    },
    "widgets": {
      "application/vnd.jupyter.widget-state+json": {
        "244e9ab2f2e54e6b8bdb0274a041dc82": {
          "model_module": "@jupyter-widgets/controls",
          "model_name": "HBoxModel",
          "model_module_version": "1.5.0",
          "state": {
            "_dom_classes": [],
            "_model_module": "@jupyter-widgets/controls",
            "_model_module_version": "1.5.0",
            "_model_name": "HBoxModel",
            "_view_count": null,
            "_view_module": "@jupyter-widgets/controls",
            "_view_module_version": "1.5.0",
            "_view_name": "HBoxView",
            "box_style": "",
            "children": [
              "IPY_MODEL_d4365a6d68e149c6a92cd5bbd482a228",
              "IPY_MODEL_86ffccff5b4e4124abccbc85c97e588c",
              "IPY_MODEL_eb0a2581a05144e8b4e027d41f52d2dd"
            ],
            "layout": "IPY_MODEL_76a34a0ea7e843ae8dec098aab7732ad"
          }
        },
        "d4365a6d68e149c6a92cd5bbd482a228": {
          "model_module": "@jupyter-widgets/controls",
          "model_name": "HTMLModel",
          "model_module_version": "1.5.0",
          "state": {
            "_dom_classes": [],
            "_model_module": "@jupyter-widgets/controls",
            "_model_module_version": "1.5.0",
            "_model_name": "HTMLModel",
            "_view_count": null,
            "_view_module": "@jupyter-widgets/controls",
            "_view_module_version": "1.5.0",
            "_view_name": "HTMLView",
            "description": "",
            "description_tooltip": null,
            "layout": "IPY_MODEL_c218d228be214ed19d1a4246e59f3517",
            "placeholder": "​",
            "style": "IPY_MODEL_76bff188929a40b1be7204777fe7acea",
            "value": "Computing transition probabilities: 100%"
          }
        },
        "86ffccff5b4e4124abccbc85c97e588c": {
          "model_module": "@jupyter-widgets/controls",
          "model_name": "FloatProgressModel",
          "model_module_version": "1.5.0",
          "state": {
            "_dom_classes": [],
            "_model_module": "@jupyter-widgets/controls",
            "_model_module_version": "1.5.0",
            "_model_name": "FloatProgressModel",
            "_view_count": null,
            "_view_module": "@jupyter-widgets/controls",
            "_view_module_version": "1.5.0",
            "_view_name": "ProgressView",
            "bar_style": "success",
            "description": "",
            "description_tooltip": null,
            "layout": "IPY_MODEL_8824ea288e9741829edb261e64458748",
            "max": 150,
            "min": 0,
            "orientation": "horizontal",
            "style": "IPY_MODEL_c9a920be558b4a348dd29c73d6108148",
            "value": 150
          }
        },
        "eb0a2581a05144e8b4e027d41f52d2dd": {
          "model_module": "@jupyter-widgets/controls",
          "model_name": "HTMLModel",
          "model_module_version": "1.5.0",
          "state": {
            "_dom_classes": [],
            "_model_module": "@jupyter-widgets/controls",
            "_model_module_version": "1.5.0",
            "_model_name": "HTMLModel",
            "_view_count": null,
            "_view_module": "@jupyter-widgets/controls",
            "_view_module_version": "1.5.0",
            "_view_name": "HTMLView",
            "description": "",
            "description_tooltip": null,
            "layout": "IPY_MODEL_5ad19b4be5b649308ec2d2a170594665",
            "placeholder": "​",
            "style": "IPY_MODEL_dd356c06abfa4fc1b1964667812195d4",
            "value": " 150/150 [00:00&lt;00:00, 344.97it/s]"
          }
        },
        "76a34a0ea7e843ae8dec098aab7732ad": {
          "model_module": "@jupyter-widgets/base",
          "model_name": "LayoutModel",
          "model_module_version": "1.2.0",
          "state": {
            "_model_module": "@jupyter-widgets/base",
            "_model_module_version": "1.2.0",
            "_model_name": "LayoutModel",
            "_view_count": null,
            "_view_module": "@jupyter-widgets/base",
            "_view_module_version": "1.2.0",
            "_view_name": "LayoutView",
            "align_content": null,
            "align_items": null,
            "align_self": null,
            "border": null,
            "bottom": null,
            "display": null,
            "flex": null,
            "flex_flow": null,
            "grid_area": null,
            "grid_auto_columns": null,
            "grid_auto_flow": null,
            "grid_auto_rows": null,
            "grid_column": null,
            "grid_gap": null,
            "grid_row": null,
            "grid_template_areas": null,
            "grid_template_columns": null,
            "grid_template_rows": null,
            "height": null,
            "justify_content": null,
            "justify_items": null,
            "left": null,
            "margin": null,
            "max_height": null,
            "max_width": null,
            "min_height": null,
            "min_width": null,
            "object_fit": null,
            "object_position": null,
            "order": null,
            "overflow": null,
            "overflow_x": null,
            "overflow_y": null,
            "padding": null,
            "right": null,
            "top": null,
            "visibility": null,
            "width": null
          }
        },
        "c218d228be214ed19d1a4246e59f3517": {
          "model_module": "@jupyter-widgets/base",
          "model_name": "LayoutModel",
          "model_module_version": "1.2.0",
          "state": {
            "_model_module": "@jupyter-widgets/base",
            "_model_module_version": "1.2.0",
            "_model_name": "LayoutModel",
            "_view_count": null,
            "_view_module": "@jupyter-widgets/base",
            "_view_module_version": "1.2.0",
            "_view_name": "LayoutView",
            "align_content": null,
            "align_items": null,
            "align_self": null,
            "border": null,
            "bottom": null,
            "display": null,
            "flex": null,
            "flex_flow": null,
            "grid_area": null,
            "grid_auto_columns": null,
            "grid_auto_flow": null,
            "grid_auto_rows": null,
            "grid_column": null,
            "grid_gap": null,
            "grid_row": null,
            "grid_template_areas": null,
            "grid_template_columns": null,
            "grid_template_rows": null,
            "height": null,
            "justify_content": null,
            "justify_items": null,
            "left": null,
            "margin": null,
            "max_height": null,
            "max_width": null,
            "min_height": null,
            "min_width": null,
            "object_fit": null,
            "object_position": null,
            "order": null,
            "overflow": null,
            "overflow_x": null,
            "overflow_y": null,
            "padding": null,
            "right": null,
            "top": null,
            "visibility": null,
            "width": null
          }
        },
        "76bff188929a40b1be7204777fe7acea": {
          "model_module": "@jupyter-widgets/controls",
          "model_name": "DescriptionStyleModel",
          "model_module_version": "1.5.0",
          "state": {
            "_model_module": "@jupyter-widgets/controls",
            "_model_module_version": "1.5.0",
            "_model_name": "DescriptionStyleModel",
            "_view_count": null,
            "_view_module": "@jupyter-widgets/base",
            "_view_module_version": "1.2.0",
            "_view_name": "StyleView",
            "description_width": ""
          }
        },
        "8824ea288e9741829edb261e64458748": {
          "model_module": "@jupyter-widgets/base",
          "model_name": "LayoutModel",
          "model_module_version": "1.2.0",
          "state": {
            "_model_module": "@jupyter-widgets/base",
            "_model_module_version": "1.2.0",
            "_model_name": "LayoutModel",
            "_view_count": null,
            "_view_module": "@jupyter-widgets/base",
            "_view_module_version": "1.2.0",
            "_view_name": "LayoutView",
            "align_content": null,
            "align_items": null,
            "align_self": null,
            "border": null,
            "bottom": null,
            "display": null,
            "flex": null,
            "flex_flow": null,
            "grid_area": null,
            "grid_auto_columns": null,
            "grid_auto_flow": null,
            "grid_auto_rows": null,
            "grid_column": null,
            "grid_gap": null,
            "grid_row": null,
            "grid_template_areas": null,
            "grid_template_columns": null,
            "grid_template_rows": null,
            "height": null,
            "justify_content": null,
            "justify_items": null,
            "left": null,
            "margin": null,
            "max_height": null,
            "max_width": null,
            "min_height": null,
            "min_width": null,
            "object_fit": null,
            "object_position": null,
            "order": null,
            "overflow": null,
            "overflow_x": null,
            "overflow_y": null,
            "padding": null,
            "right": null,
            "top": null,
            "visibility": null,
            "width": null
          }
        },
        "c9a920be558b4a348dd29c73d6108148": {
          "model_module": "@jupyter-widgets/controls",
          "model_name": "ProgressStyleModel",
          "model_module_version": "1.5.0",
          "state": {
            "_model_module": "@jupyter-widgets/controls",
            "_model_module_version": "1.5.0",
            "_model_name": "ProgressStyleModel",
            "_view_count": null,
            "_view_module": "@jupyter-widgets/base",
            "_view_module_version": "1.2.0",
            "_view_name": "StyleView",
            "bar_color": null,
            "description_width": ""
          }
        },
        "5ad19b4be5b649308ec2d2a170594665": {
          "model_module": "@jupyter-widgets/base",
          "model_name": "LayoutModel",
          "model_module_version": "1.2.0",
          "state": {
            "_model_module": "@jupyter-widgets/base",
            "_model_module_version": "1.2.0",
            "_model_name": "LayoutModel",
            "_view_count": null,
            "_view_module": "@jupyter-widgets/base",
            "_view_module_version": "1.2.0",
            "_view_name": "LayoutView",
            "align_content": null,
            "align_items": null,
            "align_self": null,
            "border": null,
            "bottom": null,
            "display": null,
            "flex": null,
            "flex_flow": null,
            "grid_area": null,
            "grid_auto_columns": null,
            "grid_auto_flow": null,
            "grid_auto_rows": null,
            "grid_column": null,
            "grid_gap": null,
            "grid_row": null,
            "grid_template_areas": null,
            "grid_template_columns": null,
            "grid_template_rows": null,
            "height": null,
            "justify_content": null,
            "justify_items": null,
            "left": null,
            "margin": null,
            "max_height": null,
            "max_width": null,
            "min_height": null,
            "min_width": null,
            "object_fit": null,
            "object_position": null,
            "order": null,
            "overflow": null,
            "overflow_x": null,
            "overflow_y": null,
            "padding": null,
            "right": null,
            "top": null,
            "visibility": null,
            "width": null
          }
        },
        "dd356c06abfa4fc1b1964667812195d4": {
          "model_module": "@jupyter-widgets/controls",
          "model_name": "DescriptionStyleModel",
          "model_module_version": "1.5.0",
          "state": {
            "_model_module": "@jupyter-widgets/controls",
            "_model_module_version": "1.5.0",
            "_model_name": "DescriptionStyleModel",
            "_view_count": null,
            "_view_module": "@jupyter-widgets/base",
            "_view_module_version": "1.2.0",
            "_view_name": "StyleView",
            "description_width": ""
          }
        }
      }
    }
  },
  "cells": [
    {
      "cell_type": "markdown",
      "metadata": {
        "id": "view-in-github",
        "colab_type": "text"
      },
      "source": [
        "<a href=\"https://colab.research.google.com/github/CarolinaOliveira001/Complex_Network/blob/main/Assignment10.ipynb\" target=\"_parent\"><img src=\"https://colab.research.google.com/assets/colab-badge.svg\" alt=\"Open In Colab\"/></a>"
      ]
    },
    {
      "cell_type": "code",
      "execution_count": 1,
      "metadata": {
        "colab": {
          "base_uri": "https://localhost:8080/",
          "height": 74
        },
        "id": "poBV5dywv833",
        "outputId": "10802461-c730-4bd9-91a1-d90f2bbf273b"
      },
      "outputs": [
        {
          "output_type": "display_data",
          "data": {
            "text/plain": [
              "<IPython.core.display.HTML object>"
            ],
            "text/html": [
              "\n",
              "     <input type=\"file\" id=\"files-8e30cc8f-ef8d-444a-a9d0-91bfbcfb2b75\" name=\"files[]\" multiple disabled\n",
              "        style=\"border:none\" />\n",
              "     <output id=\"result-8e30cc8f-ef8d-444a-a9d0-91bfbcfb2b75\">\n",
              "      Upload widget is only available when the cell has been executed in the\n",
              "      current browser session. Please rerun this cell to enable.\n",
              "      </output>\n",
              "      <script>// Copyright 2017 Google LLC\n",
              "//\n",
              "// Licensed under the Apache License, Version 2.0 (the \"License\");\n",
              "// you may not use this file except in compliance with the License.\n",
              "// You may obtain a copy of the License at\n",
              "//\n",
              "//      http://www.apache.org/licenses/LICENSE-2.0\n",
              "//\n",
              "// Unless required by applicable law or agreed to in writing, software\n",
              "// distributed under the License is distributed on an \"AS IS\" BASIS,\n",
              "// WITHOUT WARRANTIES OR CONDITIONS OF ANY KIND, either express or implied.\n",
              "// See the License for the specific language governing permissions and\n",
              "// limitations under the License.\n",
              "\n",
              "/**\n",
              " * @fileoverview Helpers for google.colab Python module.\n",
              " */\n",
              "(function(scope) {\n",
              "function span(text, styleAttributes = {}) {\n",
              "  const element = document.createElement('span');\n",
              "  element.textContent = text;\n",
              "  for (const key of Object.keys(styleAttributes)) {\n",
              "    element.style[key] = styleAttributes[key];\n",
              "  }\n",
              "  return element;\n",
              "}\n",
              "\n",
              "// Max number of bytes which will be uploaded at a time.\n",
              "const MAX_PAYLOAD_SIZE = 100 * 1024;\n",
              "\n",
              "function _uploadFiles(inputId, outputId) {\n",
              "  const steps = uploadFilesStep(inputId, outputId);\n",
              "  const outputElement = document.getElementById(outputId);\n",
              "  // Cache steps on the outputElement to make it available for the next call\n",
              "  // to uploadFilesContinue from Python.\n",
              "  outputElement.steps = steps;\n",
              "\n",
              "  return _uploadFilesContinue(outputId);\n",
              "}\n",
              "\n",
              "// This is roughly an async generator (not supported in the browser yet),\n",
              "// where there are multiple asynchronous steps and the Python side is going\n",
              "// to poll for completion of each step.\n",
              "// This uses a Promise to block the python side on completion of each step,\n",
              "// then passes the result of the previous step as the input to the next step.\n",
              "function _uploadFilesContinue(outputId) {\n",
              "  const outputElement = document.getElementById(outputId);\n",
              "  const steps = outputElement.steps;\n",
              "\n",
              "  const next = steps.next(outputElement.lastPromiseValue);\n",
              "  return Promise.resolve(next.value.promise).then((value) => {\n",
              "    // Cache the last promise value to make it available to the next\n",
              "    // step of the generator.\n",
              "    outputElement.lastPromiseValue = value;\n",
              "    return next.value.response;\n",
              "  });\n",
              "}\n",
              "\n",
              "/**\n",
              " * Generator function which is called between each async step of the upload\n",
              " * process.\n",
              " * @param {string} inputId Element ID of the input file picker element.\n",
              " * @param {string} outputId Element ID of the output display.\n",
              " * @return {!Iterable<!Object>} Iterable of next steps.\n",
              " */\n",
              "function* uploadFilesStep(inputId, outputId) {\n",
              "  const inputElement = document.getElementById(inputId);\n",
              "  inputElement.disabled = false;\n",
              "\n",
              "  const outputElement = document.getElementById(outputId);\n",
              "  outputElement.innerHTML = '';\n",
              "\n",
              "  const pickedPromise = new Promise((resolve) => {\n",
              "    inputElement.addEventListener('change', (e) => {\n",
              "      resolve(e.target.files);\n",
              "    });\n",
              "  });\n",
              "\n",
              "  const cancel = document.createElement('button');\n",
              "  inputElement.parentElement.appendChild(cancel);\n",
              "  cancel.textContent = 'Cancel upload';\n",
              "  const cancelPromise = new Promise((resolve) => {\n",
              "    cancel.onclick = () => {\n",
              "      resolve(null);\n",
              "    };\n",
              "  });\n",
              "\n",
              "  // Wait for the user to pick the files.\n",
              "  const files = yield {\n",
              "    promise: Promise.race([pickedPromise, cancelPromise]),\n",
              "    response: {\n",
              "      action: 'starting',\n",
              "    }\n",
              "  };\n",
              "\n",
              "  cancel.remove();\n",
              "\n",
              "  // Disable the input element since further picks are not allowed.\n",
              "  inputElement.disabled = true;\n",
              "\n",
              "  if (!files) {\n",
              "    return {\n",
              "      response: {\n",
              "        action: 'complete',\n",
              "      }\n",
              "    };\n",
              "  }\n",
              "\n",
              "  for (const file of files) {\n",
              "    const li = document.createElement('li');\n",
              "    li.append(span(file.name, {fontWeight: 'bold'}));\n",
              "    li.append(span(\n",
              "        `(${file.type || 'n/a'}) - ${file.size} bytes, ` +\n",
              "        `last modified: ${\n",
              "            file.lastModifiedDate ? file.lastModifiedDate.toLocaleDateString() :\n",
              "                                    'n/a'} - `));\n",
              "    const percent = span('0% done');\n",
              "    li.appendChild(percent);\n",
              "\n",
              "    outputElement.appendChild(li);\n",
              "\n",
              "    const fileDataPromise = new Promise((resolve) => {\n",
              "      const reader = new FileReader();\n",
              "      reader.onload = (e) => {\n",
              "        resolve(e.target.result);\n",
              "      };\n",
              "      reader.readAsArrayBuffer(file);\n",
              "    });\n",
              "    // Wait for the data to be ready.\n",
              "    let fileData = yield {\n",
              "      promise: fileDataPromise,\n",
              "      response: {\n",
              "        action: 'continue',\n",
              "      }\n",
              "    };\n",
              "\n",
              "    // Use a chunked sending to avoid message size limits. See b/62115660.\n",
              "    let position = 0;\n",
              "    do {\n",
              "      const length = Math.min(fileData.byteLength - position, MAX_PAYLOAD_SIZE);\n",
              "      const chunk = new Uint8Array(fileData, position, length);\n",
              "      position += length;\n",
              "\n",
              "      const base64 = btoa(String.fromCharCode.apply(null, chunk));\n",
              "      yield {\n",
              "        response: {\n",
              "          action: 'append',\n",
              "          file: file.name,\n",
              "          data: base64,\n",
              "        },\n",
              "      };\n",
              "\n",
              "      let percentDone = fileData.byteLength === 0 ?\n",
              "          100 :\n",
              "          Math.round((position / fileData.byteLength) * 100);\n",
              "      percent.textContent = `${percentDone}% done`;\n",
              "\n",
              "    } while (position < fileData.byteLength);\n",
              "  }\n",
              "\n",
              "  // All done.\n",
              "  yield {\n",
              "    response: {\n",
              "      action: 'complete',\n",
              "    }\n",
              "  };\n",
              "}\n",
              "\n",
              "scope.google = scope.google || {};\n",
              "scope.google.colab = scope.google.colab || {};\n",
              "scope.google.colab._files = {\n",
              "  _uploadFiles,\n",
              "  _uploadFilesContinue,\n",
              "};\n",
              "})(self);\n",
              "</script> "
            ]
          },
          "metadata": {}
        },
        {
          "output_type": "stream",
          "name": "stdout",
          "text": [
            "Saving 414.edges to 414.edges\n"
          ]
        }
      ],
      "source": [
        "from google.colab import files\n",
        "uploaded = files.upload()"
      ]
    },
    {
      "cell_type": "code",
      "source": [
        "pip install node2vec==0.4.3"
      ],
      "metadata": {
        "colab": {
          "base_uri": "https://localhost:8080/"
        },
        "id": "N_ZAh6Xezj_l",
        "outputId": "3418b146-c628-4f49-f181-bef701bb1f6b"
      },
      "execution_count": 2,
      "outputs": [
        {
          "output_type": "stream",
          "name": "stdout",
          "text": [
            "Looking in indexes: https://pypi.org/simple, https://us-python.pkg.dev/colab-wheels/public/simple/\n",
            "Collecting node2vec==0.4.3\n",
            "  Downloading node2vec-0.4.3.tar.gz (4.6 kB)\n",
            "Requirement already satisfied: networkx in /usr/local/lib/python3.8/dist-packages (from node2vec==0.4.3) (2.8.8)\n",
            "Requirement already satisfied: gensim in /usr/local/lib/python3.8/dist-packages (from node2vec==0.4.3) (3.6.0)\n",
            "Requirement already satisfied: numpy in /usr/local/lib/python3.8/dist-packages (from node2vec==0.4.3) (1.21.6)\n",
            "Requirement already satisfied: tqdm in /usr/local/lib/python3.8/dist-packages (from node2vec==0.4.3) (4.64.1)\n",
            "Requirement already satisfied: joblib>=0.13.2 in /usr/local/lib/python3.8/dist-packages (from node2vec==0.4.3) (1.2.0)\n",
            "Requirement already satisfied: scipy>=0.18.1 in /usr/local/lib/python3.8/dist-packages (from gensim->node2vec==0.4.3) (1.7.3)\n",
            "Requirement already satisfied: smart-open>=1.2.1 in /usr/local/lib/python3.8/dist-packages (from gensim->node2vec==0.4.3) (5.2.1)\n",
            "Requirement already satisfied: six>=1.5.0 in /usr/local/lib/python3.8/dist-packages (from gensim->node2vec==0.4.3) (1.15.0)\n",
            "Building wheels for collected packages: node2vec\n",
            "  Building wheel for node2vec (setup.py) ... \u001b[?25l\u001b[?25hdone\n",
            "  Created wheel for node2vec: filename=node2vec-0.4.3-py3-none-any.whl size=5980 sha256=082c5674a3b64bd88ef066eb3779821bd19fd6a15aecdc742e2ac675659e9dce\n",
            "  Stored in directory: /root/.cache/pip/wheels/f9/b5/dd/9d0f537aa176c7e97e050850e4bf25573e035aaddb06f5588a\n",
            "Successfully built node2vec\n",
            "Installing collected packages: node2vec\n",
            "Successfully installed node2vec-0.4.3\n"
          ]
        }
      ]
    },
    {
      "cell_type": "code",
      "source": [
        "import networkx as nx\n",
        "from random import sample\n",
        "import numpy as np\n",
        "from sklearn.metrics import roc_curve, roc_auc_score, precision_score, accuracy_score\n",
        "import matplotlib.pyplot as plt\n",
        "from node2vec import Node2Vec\n",
        "from sklearn import metrics\n",
        "from scipy.spatial.distance import cdist\n",
        "import pandas as pd\n",
        "import sklearn.metrics as sm\n",
        "from itertools import product\n",
        "from sklearn.ensemble import GradientBoostingClassifier\n",
        "from sklearn.model_selection import train_test_split"
      ],
      "metadata": {
        "id": "9EmukN9uzbZX"
      },
      "execution_count": 3,
      "outputs": []
    },
    {
      "cell_type": "code",
      "source": [
        "filenameFacebook = \"414.edges\"\n",
        "\n",
        "graphFacebook = nx.Graph()\n",
        "trueGraphFacebook = nx.Graph()\n",
        "\n",
        "with open(filenameFacebook) as f:\n",
        "    for line in f:\n",
        "        x = line.split()\n",
        "        a = int(x[0])\n",
        "        b = int(x[1])\n",
        "        \n",
        "        if a not in list(graphFacebook.nodes):\n",
        "            graphFacebook.add_node(a)\n",
        "            trueGraphFacebook.add_node(a)\n",
        "        if b not in list(graphFacebook.nodes):\n",
        "            graphFacebook.add_node(b)\n",
        "            trueGraphFacebook.add_node(b)\n",
        "\n",
        "        graphFacebook.add_edge(a, b)\n",
        "        trueGraphFacebook.add_edge(a, b)"
      ],
      "metadata": {
        "id": "OZC5KItczkl-"
      },
      "execution_count": 4,
      "outputs": []
    },
    {
      "cell_type": "code",
      "source": [
        "len(graphFacebook.edges())"
      ],
      "metadata": {
        "colab": {
          "base_uri": "https://localhost:8080/"
        },
        "id": "vSc_3wFU4PR2",
        "outputId": "4186bfad-5fc4-42fb-e6ad-0aab9f6d44ef"
      },
      "execution_count": 5,
      "outputs": [
        {
          "output_type": "execute_result",
          "data": {
            "text/plain": [
              "1693"
            ]
          },
          "metadata": {},
          "execution_count": 5
        }
      ]
    },
    {
      "cell_type": "code",
      "source": [
        "random_edges = set(sample(list(graphFacebook.edges()), int(round(graphFacebook.number_of_edges()*10/100, 0))))"
      ],
      "metadata": {
        "id": "0H1dMkIaz25x"
      },
      "execution_count": 6,
      "outputs": []
    },
    {
      "cell_type": "code",
      "source": [
        "for edge in random_edges:\n",
        "  graphFacebook.remove_edge(edge[0], edge[1])"
      ],
      "metadata": {
        "id": "AYUbFBv8z9H4"
      },
      "execution_count": 7,
      "outputs": []
    },
    {
      "cell_type": "code",
      "source": [
        "graphFacebookWithoutRemovedEdges = list(graphFacebook.edges())"
      ],
      "metadata": {
        "id": "gYhfmh5Bz99S"
      },
      "execution_count": 8,
      "outputs": []
    },
    {
      "cell_type": "markdown",
      "source": [
        "# Homework 9"
      ],
      "metadata": {
        "id": "nn74Toe_zefR"
      }
    },
    {
      "cell_type": "markdown",
      "source": [
        "Most of this code was taking from the previous assignment. Look at the end of this part to see that part added."
      ],
      "metadata": {
        "id": "zW2tC-8t0IEF"
      }
    },
    {
      "cell_type": "code",
      "source": [
        "predictedModel = nx.adamic_adar_index(graphFacebook)"
      ],
      "metadata": {
        "id": "jDBPlNcbzhqe"
      },
      "execution_count": 17,
      "outputs": []
    },
    {
      "cell_type": "code",
      "source": [
        "listOfPredictedEdges = []\n",
        "\n",
        "for u, v, p in predictedModel:\n",
        "    listOfPredictedEdges.append((u, v, p))"
      ],
      "metadata": {
        "id": "8H6p3peN0HBU"
      },
      "execution_count": 18,
      "outputs": []
    },
    {
      "cell_type": "code",
      "source": [
        "listOfPredictedEdges = sorted(listOfPredictedEdges, key=lambda tup: tup[2], reverse=True)"
      ],
      "metadata": {
        "id": "Kxrk2wSw0G-a"
      },
      "execution_count": 19,
      "outputs": []
    },
    {
      "cell_type": "code",
      "source": [
        "highestAdamicAdarModel = listOfPredictedEdges[0][2]"
      ],
      "metadata": {
        "id": "w081PpII0G7B"
      },
      "execution_count": 20,
      "outputs": []
    },
    {
      "cell_type": "code",
      "source": [
        "listOfProbabilityEdges = []\n",
        "\n",
        "for (a, b, p) in listOfPredictedEdges:\n",
        "  listOfProbabilityEdges.append([(a, b), p/highestAdamicAdarModel])"
      ],
      "metadata": {
        "id": "OGxiiIid0G3W"
      },
      "execution_count": 21,
      "outputs": []
    },
    {
      "cell_type": "code",
      "source": [
        "completetrueGraphFacebook = nx.complete_graph(trueGraphFacebook.nodes())"
      ],
      "metadata": {
        "id": "FHBfu5h50NwO"
      },
      "execution_count": 22,
      "outputs": []
    },
    {
      "cell_type": "code",
      "source": [
        "listOfAllPossibleEdges = list(completetrueGraphFacebook.edges())"
      ],
      "metadata": {
        "id": "GxpckOux0NtO"
      },
      "execution_count": 23,
      "outputs": []
    },
    {
      "cell_type": "code",
      "source": [
        "for edge in graphFacebookWithoutRemovedEdges:\n",
        "  listOfAllPossibleEdges.remove(edge)"
      ],
      "metadata": {
        "id": "Bjinzp7S0NqN"
      },
      "execution_count": 24,
      "outputs": []
    },
    {
      "cell_type": "code",
      "source": [
        "listOfTrueGraphFacebooksEdges = []\n",
        "\n",
        "for edge in listOfAllPossibleEdges:\n",
        "  if edge in list(trueGraphFacebook.edges()):\n",
        "    listOfTrueGraphFacebooksEdges.append(1)\n",
        "  else:\n",
        "    listOfTrueGraphFacebooksEdges.append(0)"
      ],
      "metadata": {
        "id": "YwLT3l0u0NmH"
      },
      "execution_count": 25,
      "outputs": []
    },
    {
      "cell_type": "code",
      "source": [
        "listOfProbabilityGraphFacebooksEdges = []\n",
        "\n",
        "for edgeA in listOfAllPossibleEdges:\n",
        "  valueHelper = []\n",
        "  for idx in range(0, len(listOfProbabilityEdges)):\n",
        "    edgeB = listOfProbabilityEdges[idx][0]\n",
        "    if edgeA == edgeB:\n",
        "      valueHelper.append(listOfProbabilityEdges[idx][1])\n",
        "    \n",
        "  if len(valueHelper) == 0:\n",
        "    listOfProbabilityGraphFacebooksEdges.append(0)\n",
        "  else:\n",
        "    listOfProbabilityGraphFacebooksEdges.append(valueHelper[0])"
      ],
      "metadata": {
        "id": "2YPDeDQI0Ni0"
      },
      "execution_count": 26,
      "outputs": []
    },
    {
      "cell_type": "code",
      "source": [
        "listOfGraphFacebooksEdges = []\n",
        "\n",
        "for edgeA in listOfAllPossibleEdges:\n",
        "  valueHelper = []\n",
        "  for idx in range(0, len(listOfProbabilityEdges)):\n",
        "    edgeB = listOfProbabilityEdges[idx][0]\n",
        "    if edgeA == edgeB:\n",
        "      if listOfProbabilityEdges[idx][1] > 0.5:\n",
        "        valueHelper.append(1)\n",
        "      else:\n",
        "        valueHelper.append(0)\n",
        "  \n",
        "  if(len(valueHelper) == 0):\n",
        "    listOfGraphFacebooksEdges.append(0)\n",
        "  else:\n",
        "    listOfGraphFacebooksEdges.append(valueHelper[0])"
      ],
      "metadata": {
        "id": "8j-Ec8s70Zum"
      },
      "execution_count": 27,
      "outputs": []
    },
    {
      "cell_type": "code",
      "source": [
        "precision = precision_score(listOfTrueGraphFacebooksEdges, listOfGraphFacebooksEdges)"
      ],
      "metadata": {
        "id": "07SaXdmf0Zrv"
      },
      "execution_count": 28,
      "outputs": []
    },
    {
      "cell_type": "code",
      "source": [
        "print(f'Precision: {precision}')"
      ],
      "metadata": {
        "colab": {
          "base_uri": "https://localhost:8080/"
        },
        "id": "eENkZc5b0c1h",
        "outputId": "5accd996-d64f-4987-88de-41361e24a03c"
      },
      "execution_count": 29,
      "outputs": [
        {
          "output_type": "stream",
          "name": "stdout",
          "text": [
            "Precision: 0.3425925925925926\n"
          ]
        }
      ]
    },
    {
      "cell_type": "code",
      "source": [
        "accuracy = accuracy_score(listOfTrueGraphFacebooksEdges, listOfGraphFacebooksEdges)"
      ],
      "metadata": {
        "id": "8i3Yuadz0cya"
      },
      "execution_count": 30,
      "outputs": []
    },
    {
      "cell_type": "code",
      "source": [
        "print(f'Accuracy: {accuracy}')"
      ],
      "metadata": {
        "colab": {
          "base_uri": "https://localhost:8080/"
        },
        "id": "JmVU6Ib60cu_",
        "outputId": "bc2ca86e-6479-4aa2-f575-de74694b36af"
      },
      "execution_count": 31,
      "outputs": [
        {
          "output_type": "stream",
          "name": "stdout",
          "text": [
            "Accuracy: 0.978965910268366\n"
          ]
        }
      ]
    },
    {
      "cell_type": "code",
      "source": [
        "complementOfSpecificity, sensitivity, __ = roc_curve(listOfTrueGraphFacebooksEdges, listOfProbabilityGraphFacebooksEdges)"
      ],
      "metadata": {
        "id": "kPZxKHrc0csD"
      },
      "execution_count": 32,
      "outputs": []
    },
    {
      "cell_type": "code",
      "source": [
        "def plot_roc_curve(fpr, tpr):\n",
        "    plt.plot(fpr, tpr)\n",
        "    plt.xlabel('False Positive Rate')\n",
        "    plt.ylabel('True Positive Rate')"
      ],
      "metadata": {
        "id": "xnrJ3ZMq0cni"
      },
      "execution_count": 33,
      "outputs": []
    },
    {
      "cell_type": "code",
      "source": [
        "plot_roc_curve(complementOfSpecificity, sensitivity)"
      ],
      "metadata": {
        "colab": {
          "base_uri": "https://localhost:8080/",
          "height": 279
        },
        "id": "YsgqQCXu0ckN",
        "outputId": "479aee95-234a-42ee-f641-dcc6fbaa349b"
      },
      "execution_count": 34,
      "outputs": [
        {
          "output_type": "display_data",
          "data": {
            "text/plain": [
              "<Figure size 432x288 with 1 Axes>"
            ],
            "image/png": "[encoded data removed]"
          },
          "metadata": {
            "needs_background": "light"
          }
        }
      ]
    },
    {
      "cell_type": "code",
      "source": [
        "print(f'AUC score: {roc_auc_score(listOfTrueGraphFacebooksEdges, listOfProbabilityGraphFacebooksEdges)}')"
      ],
      "metadata": {
        "colab": {
          "base_uri": "https://localhost:8080/"
        },
        "id": "b9Yf0Xcl0x9O",
        "outputId": "6d303ec0-9dd0-4b32-f35f-07e47e216329"
      },
      "execution_count": 35,
      "outputs": [
        {
          "output_type": "stream",
          "name": "stdout",
          "text": [
            "AUC score: 0.7017076266585458\n"
          ]
        }
      ]
    },
    {
      "cell_type": "markdown",
      "source": [
        "From now on this code was added for this assignment. \n",
        "\n",
        "This aims to count how many edges from the removed edges of graph Facebook were really predicted as an edge. We can see that only 37 out of 169 edges were found."
      ],
      "metadata": {
        "id": "B3gLsqY7wAdO"
      }
    },
    {
      "cell_type": "code",
      "source": [
        "theDesiredEdgesPrediction = []\n",
        "for i in listOfProbabilityEdges:\n",
        "  if i[0] in random_edges:\n",
        "    theDesiredEdgesPrediction.append(i)"
      ],
      "metadata": {
        "id": "hrqa9Ej0fHAm"
      },
      "execution_count": 46,
      "outputs": []
    },
    {
      "cell_type": "code",
      "source": [
        "for i in theDesiredEdgesPrediction:\n",
        "  if i[1] >= 0.5:\n",
        "    i[1] = 1\n",
        "  else:\n",
        "    i[1] = 0"
      ],
      "metadata": {
        "id": "C4XLv9j7fhov"
      },
      "execution_count": 48,
      "outputs": []
    },
    {
      "cell_type": "code",
      "source": [
        "countThePredictedRemovedEdges = []\n",
        "for i in theDesiredEdgesPrediction:\n",
        "  countThePredictedRemovedEdges.append(i[1])"
      ],
      "metadata": {
        "id": "RqTNAZe-hjaQ"
      },
      "execution_count": 50,
      "outputs": []
    },
    {
      "cell_type": "code",
      "source": [
        "print(sum(countThePredictedRemovedEdges))"
      ],
      "metadata": {
        "colab": {
          "base_uri": "https://localhost:8080/"
        },
        "id": "pFMcfGrniEzn",
        "outputId": "1a4c3d3e-9ee6-43eb-8613-310854dd3e78"
      },
      "execution_count": 52,
      "outputs": [
        {
          "output_type": "stream",
          "name": "stdout",
          "text": [
            "37\n"
          ]
        }
      ]
    },
    {
      "cell_type": "markdown",
      "source": [
        "#Homework 10"
      ],
      "metadata": {
        "id": "a7kzmGKIz3wd"
      }
    },
    {
      "cell_type": "markdown",
      "source": [
        "We use the node2vec to assign every node to a specific and unique vector. We fit the model and save the vector in a dataframe with the index being the corresponding nodes ID."
      ],
      "metadata": {
        "id": "Lh74W8Ty1tIU"
      }
    },
    {
      "cell_type": "code",
      "source": [
        "node2vec = Node2Vec(graphFacebook, dimensions=64, seed = 42)"
      ],
      "metadata": {
        "colab": {
          "base_uri": "https://localhost:8080/",
          "height": 67,
          "referenced_widgets": [
            "244e9ab2f2e54e6b8bdb0274a041dc82",
            "d4365a6d68e149c6a92cd5bbd482a228",
            "86ffccff5b4e4124abccbc85c97e588c",
            "eb0a2581a05144e8b4e027d41f52d2dd",
            "76a34a0ea7e843ae8dec098aab7732ad",
            "c218d228be214ed19d1a4246e59f3517",
            "76bff188929a40b1be7204777fe7acea",
            "8824ea288e9741829edb261e64458748",
            "c9a920be558b4a348dd29c73d6108148",
            "5ad19b4be5b649308ec2d2a170594665",
            "dd356c06abfa4fc1b1964667812195d4"
          ]
        },
        "id": "MvAbNHUv19vL",
        "outputId": "eda69585-329b-4df1-86c1-4a6f484f88a8"
      },
      "execution_count": 9,
      "outputs": [
        {
          "output_type": "display_data",
          "data": {
            "text/plain": [
              "Computing transition probabilities:   0%|          | 0/150 [00:00<?, ?it/s]"
            ],
            "application/vnd.jupyter.widget-view+json": {
              "version_major": 2,
              "version_minor": 0,
              "model_id": "244e9ab2f2e54e6b8bdb0274a041dc82"
            }
          },
          "metadata": {}
        },
        {
          "output_type": "stream",
          "name": "stderr",
          "text": [
            "Generating walks (CPU: 1): 100%|██████████| 10/10 [00:05<00:00,  1.83it/s]\n"
          ]
        }
      ]
    },
    {
      "cell_type": "code",
      "source": [
        "model = node2vec.fit(min_count=1, batch_words=4)"
      ],
      "metadata": {
        "id": "kC4LOVCa2ktv"
      },
      "execution_count": 70,
      "outputs": []
    },
    {
      "cell_type": "code",
      "source": [
        "emb_df = (pd.DataFrame([model.wv.get_vector(str(n)) for n in graphFacebook.nodes()],\n",
        "                       index = graphFacebook.nodes))"
      ],
      "metadata": {
        "id": "yTm516j2y6O0"
      },
      "execution_count": 15,
      "outputs": []
    },
    {
      "cell_type": "markdown",
      "source": [
        "We multiply the two vectors together and that will be the feature used to help the model the edges. We will have a numpy array with the features as X and the y will be an array of 1 or 0 depending if the tuple in allPossibleEdgesWithoutDeletedEdges is an edge in the graphFacebook. We split the data into training and test. Testing data will be 30% of the whole data.\n",
        "\n",
        "The chosen model is the GradientBoostingClassifier and we will train it with the training data. After that we will predict the test data. Now it only remains to use some metrics to see how good our model was."
      ],
      "metadata": {
        "id": "mSVriKfR3uCt"
      }
    },
    {
      "cell_type": "code",
      "source": [
        "unique_nodes = list(graphFacebook.nodes())\n",
        "\n",
        "allPossibleEdgesWithoutDeletedEdges = []\n",
        "for u in unique_nodes:\n",
        "  for v in unique_nodes:\n",
        "    if (u, v) not in random_edges and (v, u) not in random_edges:\n",
        "      allPossibleEdgesWithoutDeletedEdges.append((u, v))\n",
        "\n",
        "edge_features = [(model.wv.get_vector(str(i)) * model.wv.get_vector(str(j))) for i,j in allPossibleEdgesWithoutDeletedEdges]\n",
        "\n",
        "y = [1 if e in graphFacebookWithoutRemovedEdges else 0 for e in allPossibleEdgesWithoutDeletedEdges]"
      ],
      "metadata": {
        "id": "8kBbHAMybf8f"
      },
      "execution_count": 83,
      "outputs": []
    },
    {
      "cell_type": "code",
      "source": [
        "X = np.array(edge_features)\n",
        "\n",
        "X_train, X_test, y_train, y_test = train_test_split(X, y, test_size = 0.3)\n",
        "\n",
        "clf = GradientBoostingClassifier()\n",
        "\n",
        "clf.fit(X_train, y_train)"
      ],
      "metadata": {
        "colab": {
          "base_uri": "https://localhost:8080/"
        },
        "id": "2PmQYWq7bf5o",
        "outputId": "f8257d59-aaac-4e42-cdbe-2e858524ae76"
      },
      "execution_count": 84,
      "outputs": [
        {
          "output_type": "execute_result",
          "data": {
            "text/plain": [
              "GradientBoostingClassifier()"
            ]
          },
          "metadata": {},
          "execution_count": 84
        }
      ]
    },
    {
      "cell_type": "code",
      "source": [
        "y_pred = clf.predict(X_test)\n",
        "X_pred = clf.predict(X_train)"
      ],
      "metadata": {
        "id": "KiO4YTrajq-d"
      },
      "execution_count": 85,
      "outputs": []
    },
    {
      "cell_type": "markdown",
      "source": [
        "Accuracy"
      ],
      "metadata": {
        "id": "rAM9fCOtDw5X"
      }
    },
    {
      "cell_type": "code",
      "source": [
        "test_acc = accuracy_score(y_test, y_pred)\n",
        "train_acc = accuracy_score(y_train, X_pred)\n",
        "print(\"Testing Accuracy : \", test_acc)\n",
        "print(\"Training Accuracy : \", train_acc)"
      ],
      "metadata": {
        "colab": {
          "base_uri": "https://localhost:8080/"
        },
        "id": "BJg5KulHbf2m",
        "outputId": "246bc00a-dd83-4195-d769-6075f1712f2a"
      },
      "execution_count": 86,
      "outputs": [
        {
          "output_type": "stream",
          "name": "stdout",
          "text": [
            "Testing Accuracy :  0.9234471349075049\n",
            "Training Accuracy :  0.9335396119383743\n"
          ]
        }
      ]
    },
    {
      "cell_type": "markdown",
      "source": [
        "Precision"
      ],
      "metadata": {
        "id": "ob5FdI2zD-Dc"
      }
    },
    {
      "cell_type": "code",
      "source": [
        "test_prec = precision_score(y_test, y_pred)\n",
        "train_prec = precision_score(y_train, X_pred)\n",
        "print(\"Testing Precision : \", test_prec)\n",
        "print(\"Training Precision : \", train_prec)"
      ],
      "metadata": {
        "colab": {
          "base_uri": "https://localhost:8080/"
        },
        "id": "cA4vLm8vjTgj",
        "outputId": "a53a9041-ddfc-4786-9b32-c24838b597c0"
      },
      "execution_count": 87,
      "outputs": [
        {
          "output_type": "stream",
          "name": "stdout",
          "text": [
            "Testing Precision :  0.125\n",
            "Training Precision :  0.6420454545454546\n"
          ]
        }
      ]
    },
    {
      "cell_type": "markdown",
      "source": [
        "ROC-curve"
      ],
      "metadata": {
        "id": "rcFOBUEYEAWw"
      }
    },
    {
      "cell_type": "code",
      "source": [
        "complementOfSpecificity, sensitivity, __ = roc_curve(y_test, y_pred)"
      ],
      "metadata": {
        "id": "NNkNIU9Bbfzp"
      },
      "execution_count": 88,
      "outputs": []
    },
    {
      "cell_type": "code",
      "source": [
        "plot_roc_curve(complementOfSpecificity, sensitivity)"
      ],
      "metadata": {
        "colab": {
          "base_uri": "https://localhost:8080/",
          "height": 279
        },
        "id": "IZ-2VYRTbfwy",
        "outputId": "d773f402-d8b8-4f1f-fc25-025557c2014b"
      },
      "execution_count": 89,
      "outputs": [
        {
          "output_type": "display_data",
          "data": {
            "text/plain": [
              "<Figure size 432x288 with 1 Axes>"
            ],
            "image/png": "[encoded data removed]"
          },
          "metadata": {
            "needs_background": "light"
          }
        }
      ]
    },
    {
      "cell_type": "markdown",
      "source": [
        "ROC-AUC Score"
      ],
      "metadata": {
        "id": "01CGUzXzEDNw"
      }
    },
    {
      "cell_type": "code",
      "source": [
        "print(f'AUC score: {roc_auc_score(listOfTrueGraphFacebooksEdges, listOfProbabilityGraphFacebooksEdges)}')"
      ],
      "metadata": {
        "colab": {
          "base_uri": "https://localhost:8080/"
        },
        "id": "_eRkoAC2bft6",
        "outputId": "a9d89167-7912-48b9-e481-f657688b2035"
      },
      "execution_count": 90,
      "outputs": [
        {
          "output_type": "stream",
          "name": "stdout",
          "text": [
            "AUC score: 0.7017076266585458\n"
          ]
        }
      ]
    },
    {
      "cell_type": "markdown",
      "source": [
        "This aims to count how many edges from the removed edges of graph Facebook were really predicted as an edge. We can see that only 10 out of 169 edges were found."
      ],
      "metadata": {
        "id": "bngHOEc31dUE"
      }
    },
    {
      "cell_type": "code",
      "source": [
        "edge_features_from_desired_edges = [(model.wv.get_vector(str(i)) * model.wv.get_vector(str(j))) for i,j in random_edges]"
      ],
      "metadata": {
        "id": "McNJxa3yqB9L"
      },
      "execution_count": 95,
      "outputs": []
    },
    {
      "cell_type": "code",
      "source": [
        "X_desired_edges = np.array(edge_features_from_desired_edges)"
      ],
      "metadata": {
        "id": "e7euVCa2tyJ7"
      },
      "execution_count": 96,
      "outputs": []
    },
    {
      "cell_type": "code",
      "source": [
        "countThePredictedRemovedEdges = clf.predict(X_desired_edges)"
      ],
      "metadata": {
        "id": "1uYyH8ZNbfqx"
      },
      "execution_count": 97,
      "outputs": []
    },
    {
      "cell_type": "code",
      "source": [
        "sum(countThePredictedRemovedEdges)"
      ],
      "metadata": {
        "colab": {
          "base_uri": "https://localhost:8080/"
        },
        "id": "zTPzmVzqbfnf",
        "outputId": "f79d4c87-8140-42dc-bde7-ee393948f0c6"
      },
      "execution_count": 98,
      "outputs": [
        {
          "output_type": "execute_result",
          "data": {
            "text/plain": [
              "10"
            ]
          },
          "metadata": {},
          "execution_count": 98
        }
      ]
    },
    {
      "cell_type": "markdown",
      "source": [
        "# Conclusion"
      ],
      "metadata": {
        "id": "IqR8gtcJ1f6v"
      }
    },
    {
      "cell_type": "markdown",
      "source": [
        "After some study, we noticed that the adamic_adar_index algorithm contains better results than the GradientBoostingClassifier algorithm."
      ],
      "metadata": {
        "id": "Kmw5wfGD1lvU"
      }
    }
  ]
}