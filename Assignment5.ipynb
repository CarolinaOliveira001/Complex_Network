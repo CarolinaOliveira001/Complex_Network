{
  "nbformat": 4,
  "nbformat_minor": 0,
  "metadata": {
    "colab": {
      "provenance": [],
      "collapsed_sections": [],
      "authorship_tag": "ABX9TyOUqPlpwRGm6DJC/DgbX2JN",
      "include_colab_link": true
    },
    "kernelspec": {
      "name": "python3",
      "display_name": "Python 3"
    },
    "language_info": {
      "name": "python"
    }
  },
  "cells": [
    {
      "cell_type": "markdown",
      "metadata": {
        "id": "view-in-github",
        "colab_type": "text"
      },
      "source": [
        "<a href=\"https://colab.research.google.com/github/CarolinaOliveira001/Complex_Network/blob/main/Assignment5.ipynb\" target=\"_parent\"><img src=\"https://colab.research.google.com/assets/colab-badge.svg\" alt=\"Open In Colab\"/></a>"
      ]
    },
    {
      "cell_type": "code",
      "source": [
        "!pip install python-louvain\n",
        "!pip install networkx\n",
        "!pip install cdlib"
      ],
      "metadata": {
        "id": "Ua52ChWZzx4L"
      },
      "execution_count": null,
      "outputs": []
    },
    {
      "cell_type": "code",
      "source": [
        "pip install --upgrade networkx"
      ],
      "metadata": {
        "id": "V_4WBkyp4X-h"
      },
      "execution_count": null,
      "outputs": []
    },
    {
      "cell_type": "code",
      "execution_count": 3,
      "metadata": {
        "id": "I06Ya0XtovRH"
      },
      "outputs": [],
      "source": [
        "import networkx as nx\n",
        "import matplotlib.pyplot as plt\n",
        "from networkx.algorithms import community\n",
        "from random import sample\n",
        "import numpy as np"
      ]
    },
    {
      "cell_type": "code",
      "source": [
        "filenameTwitter = \"/content/twitter/1046661.edges\""
      ],
      "metadata": {
        "id": "hg4waFjQvhcF"
      },
      "execution_count": 4,
      "outputs": []
    },
    {
      "cell_type": "code",
      "source": [
        "filenameFacebook = \"/content/facebook/414.edges\""
      ],
      "metadata": {
        "id": "uHAZUVJT09e8"
      },
      "execution_count": 12,
      "outputs": []
    },
    {
      "cell_type": "code",
      "source": [
        "graphTwitter = nx.DiGraph()\n",
        "\n",
        "with open(filenameTwitter) as f:\n",
        "    for line in f:\n",
        "        x = line.split()\n",
        "        a = int(x[0])\n",
        "        b = int(x[1])\n",
        "        \n",
        "        if a not in list(graphTwitter.nodes):\n",
        "            graphTwitter.add_node(a)\n",
        "        if b not in list(graphTwitter.nodes):\n",
        "            graphTwitter.add_node(b)\n",
        "\n",
        "        graphTwitter.add_edge(a, b)"
      ],
      "metadata": {
        "id": "PaxlPJYDvmIc"
      },
      "execution_count": 8,
      "outputs": []
    },
    {
      "cell_type": "code",
      "source": [
        "graphFacebook = nx.Graph()\n",
        "\n",
        "with open(filenameTwitter) as f:\n",
        "    for line in f:\n",
        "        x = line.split()\n",
        "        a = int(x[0])\n",
        "        b = int(x[1])\n",
        "        \n",
        "        if a not in list(graphTwitter.nodes):\n",
        "            graphTwitter.add_node(a)\n",
        "        if b not in list(graphTwitter.nodes):\n",
        "            graphTwitter.add_node(b)\n",
        "\n",
        "        graphTwitter.add_edge(a, b)"
      ],
      "metadata": {
        "id": "YXj0hcD00N6Z"
      },
      "execution_count": 13,
      "outputs": []
    },
    {
      "cell_type": "markdown",
      "source": [
        "#Question (a)"
      ],
      "metadata": {
        "id": "50hrLSycE-It"
      }
    },
    {
      "cell_type": "code",
      "source": [
        "listOfNodesWithCorrespondingDegrees = list(graphTwitter.degree(list(graphTwitter.nodes)))\n",
        "sortedListOfNodesWithCorrespondingDegrees = sorted(\n",
        "    listOfNodesWithCorrespondingDegrees,\n",
        "    key=lambda t: t[1],\n",
        "    reverse=True)\n",
        "\n",
        "tenNodesWithHighestDegree = []\n",
        "\n",
        "for i in range(0, 10):\n",
        "  tenNodesWithHighestDegree.append(sortedListOfNodesWithCorrespondingDegrees[i])\n",
        "  \n",
        "tenNodes = []\n",
        "\n",
        "for i in range(0, 10):\n",
        "  tenNodes.append(tenNodesWithHighestDegree[i][0])\n",
        "print(\"The ten chosen nodes are\", tenNodes)"
      ],
      "metadata": {
        "colab": {
          "base_uri": "https://localhost:8080/"
        },
        "id": "PXtNd1zXFAzO",
        "outputId": "c5aea796-272c-499f-f366-e633b0cdd73b"
      },
      "execution_count": 9,
      "outputs": [
        {
          "output_type": "stream",
          "name": "stdout",
          "text": [
            "The ten chosen nodes are [991221, 1116721, 1117341, 1044591, 678953, 1118781, 1268821, 1047451, 1048661, 1269251]\n"
          ]
        }
      ]
    },
    {
      "cell_type": "code",
      "source": [
        "inducedTwitter = nx.induced_subgraph(graphTwitter, tenNodes)\n",
        "nx.draw(inducedTwitter)"
      ],
      "metadata": {
        "colab": {
          "base_uri": "https://localhost:8080/",
          "height": 319
        },
        "id": "XUR2ijR2Iry9",
        "outputId": "79516900-a906-4805-e70f-31ac3074d781"
      },
      "execution_count": 10,
      "outputs": [
        {
          "output_type": "display_data",
          "data": {
            "text/plain": [
              "<Figure size 432x288 with 1 Axes>"
            ],
            "image/png": "[encoded data removed]"
          },
          "metadata": {}
        }
      ]
    },
    {
      "cell_type": "markdown",
      "source": [
        "#Question (b)"
      ],
      "metadata": {
        "id": "nd7WU7EF85k_"
      }
    },
    {
      "cell_type": "markdown",
      "source": [
        "For community detection, there are the following algorithms:\n",
        "\n",
        "* Girvan-Newman algorithm\n",
        "* Greedy_modularity_communities algorithm\n",
        "* K-means algorithm\n"
      ],
      "metadata": {
        "id": "j0TWcDZn9Iul"
      }
    },
    {
      "cell_type": "markdown",
      "source": [
        "#Question (c)"
      ],
      "metadata": {
        "id": "aAFxADhd93ij"
      }
    },
    {
      "cell_type": "code",
      "source": [
        "def draw_circular_networkx(G, color_map, name):\n",
        "  plt.figure(figsize = (20, 20))\n",
        "  ax = plt.gca()\n",
        "  ax.set_title(name)\n",
        "  nx.draw_networkx(G,node_color=color_map, pos=nx.circular_layout(G))"
      ],
      "metadata": {
        "id": "Rp-8aKz0SH_X"
      },
      "execution_count": 7,
      "outputs": []
    },
    {
      "cell_type": "code",
      "source": [
        "def draw_plot_networkx(G, color_map, name):\n",
        "  plt.figure(figsize = (20, 20))\n",
        "  ax = plt.gca()\n",
        "  ax.set_title(name)\n",
        "  nx.draw_networkx(G ,node_color=color_map, pos=nx.spring_layout(G), with_labels = True, ax=ax)"
      ],
      "metadata": {
        "id": "yxI43S_kSLsO"
      },
      "execution_count": 8,
      "outputs": []
    },
    {
      "cell_type": "code",
      "source": [
        "def get_color_map(nodeGroups):\n",
        "  listOfColors = []\n",
        "\n",
        "  for i in range(len(nodeGroups)):\n",
        "    listOfColors.append(list(np.random.choice(range(255),size=3)))\n",
        "\n",
        "  for i in range(len(listOfColors)):\n",
        "    for j in range(3):\n",
        "      listOfColors[i][j] = listOfColors[i][j] /255\n",
        "\n",
        "  colorMap = []\n",
        "\n",
        "  for node in graphTwitter:\n",
        "    for i in range(len(nodeGroups)):\n",
        "      if node in nodeGroups[i]:\n",
        "        colorMap.append(listOfColors[i])\n",
        "  \n",
        "  return colorMap"
      ],
      "metadata": {
        "id": "fbPU7YKxVctU"
      },
      "execution_count": 9,
      "outputs": []
    },
    {
      "cell_type": "markdown",
      "source": [
        "Girvan-Newman algorithm"
      ],
      "metadata": {
        "id": "FzRdvpw62Le9"
      }
    },
    {
      "cell_type": "code",
      "source": [
        "communitiesGN = community.girvan_newman(graphTwitter)"
      ],
      "metadata": {
        "id": "6NnsFqADPhSz"
      },
      "execution_count": 58,
      "outputs": []
    },
    {
      "cell_type": "code",
      "source": [
        "nodeGroupsGN = []\n",
        "\n",
        "for community in next(communitiesGN):\n",
        "  nodeGroupsGN.append(list(community))\n",
        "\n",
        "print(\"There is\", len(nodeGroupsGN), \"communities in the Twitter Ego.\")"
      ],
      "metadata": {
        "colab": {
          "base_uri": "https://localhost:8080/"
        },
        "id": "rpa6FPLCNu4j",
        "outputId": "d26d2db6-de65-4be0-a1f6-52d905933162"
      },
      "execution_count": 59,
      "outputs": [
        {
          "output_type": "stream",
          "name": "stdout",
          "text": [
            "There is 3 communities in the Twitter Ego.\n"
          ]
        }
      ]
    },
    {
      "cell_type": "code",
      "source": [
        "colorMapGN = get_color_map(nodeGroupsGN)"
      ],
      "metadata": {
        "id": "Yyrw_MjHPyuS"
      },
      "execution_count": 60,
      "outputs": []
    },
    {
      "cell_type": "code",
      "source": [
        "draw_plot_networkx(graphTwitter, colorMapGN, \"Twitter-Ego with different communities found by Girvan-Newman algorithm\")"
      ],
      "metadata": {
        "id": "rwLtOxt5N-BL"
      },
      "execution_count": null,
      "outputs": []
    },
    {
      "cell_type": "code",
      "source": [
        "draw_circular_networkx(graphTwitter, colorMapGN, \"Twitter-Ego with different communities found by Girvan-Newman algorithm\")"
      ],
      "metadata": {
        "id": "MbsZpBi92GrB"
      },
      "execution_count": null,
      "outputs": []
    },
    {
      "cell_type": "markdown",
      "source": [
        "Greedy-modularity-communities detection algorithm"
      ],
      "metadata": {
        "id": "qHa9sIbnTeOb"
      }
    },
    {
      "cell_type": "code",
      "source": [
        "from networkx.algorithms import community\n",
        "communitiesGMC = community.greedy_modularity_communities(graphTwitter)"
      ],
      "metadata": {
        "id": "8xzz1kat3MnU"
      },
      "execution_count": 63,
      "outputs": []
    },
    {
      "cell_type": "code",
      "source": [
        "print(\"There is\", len(communitiesGMC), \"communities in the Twitter Ego.\")"
      ],
      "metadata": {
        "colab": {
          "base_uri": "https://localhost:8080/"
        },
        "id": "jzfN6lYHTnuK",
        "outputId": "3a99fdb6-c77c-40bf-a2a1-f399f35a0105"
      },
      "execution_count": 64,
      "outputs": [
        {
          "output_type": "stream",
          "name": "stdout",
          "text": [
            "There is 6 communities in the Twitter Ego.\n"
          ]
        }
      ]
    },
    {
      "cell_type": "code",
      "source": [
        "colorMapGMC = get_color_map(communitiesGMC)"
      ],
      "metadata": {
        "id": "h8b-cuuDTnr9"
      },
      "execution_count": 65,
      "outputs": []
    },
    {
      "cell_type": "code",
      "source": [
        "draw_plot_networkx(graphTwitter, colorMapGMC, \"Twitter-Ego with different communities found by Greedy-Morality-Communities algorithm\")"
      ],
      "metadata": {
        "id": "NZ70FzPbTnpZ"
      },
      "execution_count": null,
      "outputs": []
    },
    {
      "cell_type": "code",
      "source": [
        "draw_circular_networkx(graphTwitter, colorMapGMC, \"Twitter-Ego with different communities found by Greedy-Morality-Communities algorithm\")"
      ],
      "metadata": {
        "id": "rYkufqRsTnnL"
      },
      "execution_count": null,
      "outputs": []
    },
    {
      "cell_type": "markdown",
      "source": [
        "K-clique communities"
      ],
      "metadata": {
        "id": "wB7MfvyYW73P"
      }
    },
    {
      "cell_type": "code",
      "source": [
        "communityKC = community.k_clique_communities(graphFacebook, 2)"
      ],
      "metadata": {
        "id": "9Nq6TjI-W7lR"
      },
      "execution_count": 68,
      "outputs": []
    },
    {
      "cell_type": "code",
      "source": [
        "helpList = list(communityKC)"
      ],
      "metadata": {
        "id": "9oOl1zXbW6sF"
      },
      "execution_count": 69,
      "outputs": []
    },
    {
      "cell_type": "code",
      "source": [
        "print(helpList)"
      ],
      "metadata": {
        "colab": {
          "base_uri": "https://localhost:8080/"
        },
        "id": "vwh8HQtTTnkk",
        "outputId": "0ea1654d-0431-4c40-93aa-fe6a6e2fe552"
      },
      "execution_count": 70,
      "outputs": [
        {
          "output_type": "stream",
          "name": "stdout",
          "text": [
            "[]\n"
          ]
        }
      ]
    },
    {
      "cell_type": "code",
      "source": [
        "from community import community_louvain\n",
        "comms = community_louvain.best_partition(graphFacebook)"
      ],
      "metadata": {
        "id": "uz3TczZfTniO"
      },
      "execution_count": 71,
      "outputs": []
    },
    {
      "cell_type": "code",
      "source": [
        "unique_coms = np.unique(list(comms.values()))\n",
        "print(len(unique_coms))"
      ],
      "metadata": {
        "colab": {
          "base_uri": "https://localhost:8080/"
        },
        "id": "8ePBCcybTnfh",
        "outputId": "05263a93-fde8-4723-8866-ecf59618c201"
      },
      "execution_count": 72,
      "outputs": [
        {
          "output_type": "stream",
          "name": "stdout",
          "text": [
            "0\n"
          ]
        }
      ]
    },
    {
      "cell_type": "code",
      "source": [
        "len(list(community.asyn_lpa_communities(graphTwitter)))"
      ],
      "metadata": {
        "colab": {
          "base_uri": "https://localhost:8080/"
        },
        "id": "TT9bzdvJTnL6",
        "outputId": "7550d48f-8a91-4288-9baf-620415b3effc"
      },
      "execution_count": 13,
      "outputs": [
        {
          "output_type": "execute_result",
          "data": {
            "text/plain": [
              "19"
            ]
          },
          "metadata": {},
          "execution_count": 13
        }
      ]
    }
  ]
}