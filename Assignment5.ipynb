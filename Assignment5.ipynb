{
  "nbformat": 4,
  "nbformat_minor": 0,
  "metadata": {
    "colab": {
      "provenance": [],
      "collapsed_sections": [],
      "authorship_tag": "ABX9TyNlik0vAHbBrvntfJ9oqXnN",
      "include_colab_link": true
    },
    "kernelspec": {
      "name": "python3",
      "display_name": "Python 3"
    },
    "language_info": {
      "name": "python"
    }
  },
  "cells": [
    {
      "cell_type": "markdown",
      "metadata": {
        "id": "view-in-github",
        "colab_type": "text"
      },
      "source": [
        "<a href=\"https://colab.research.google.com/github/CarolinaOliveira001/Complex_Network/blob/main/Assignment5.ipynb\" target=\"_parent\"><img src=\"https://colab.research.google.com/assets/colab-badge.svg\" alt=\"Open In Colab\"/></a>"
      ]
    },
    {
      "cell_type": "code",
      "source": [
        "!pip install python-louvain\n",
        "!pip install networkx\n",
        "!pip install cdlib"
      ],
      "metadata": {
        "colab": {
          "base_uri": "https://localhost:8080/"
        },
        "id": "Ua52ChWZzx4L",
        "outputId": "4b3562d2-f074-4ea4-9ffa-d21ecd5a714d"
      },
      "execution_count": 1,
      "outputs": [
        {
          "output_type": "stream",
          "name": "stdout",
          "text": [
            "Looking in indexes: https://pypi.org/simple, https://us-python.pkg.dev/colab-wheels/public/simple/\n",
            "Requirement already satisfied: python-louvain in /usr/local/lib/python3.7/dist-packages (0.16)\n",
            "Requirement already satisfied: networkx in /usr/local/lib/python3.7/dist-packages (from python-louvain) (2.6.3)\n",
            "Requirement already satisfied: numpy in /usr/local/lib/python3.7/dist-packages (from python-louvain) (1.21.6)\n",
            "Looking in indexes: https://pypi.org/simple, https://us-python.pkg.dev/colab-wheels/public/simple/\n",
            "Requirement already satisfied: networkx in /usr/local/lib/python3.7/dist-packages (2.6.3)\n",
            "Looking in indexes: https://pypi.org/simple, https://us-python.pkg.dev/colab-wheels/public/simple/\n",
            "Collecting cdlib\n",
            "  Downloading cdlib-0.2.6-py3-none-any.whl (228 kB)\n",
            "\u001b[K     |████████████████████████████████| 228 kB 7.9 MB/s \n",
            "\u001b[?25hCollecting dynetx\n",
            "  Downloading dynetx-0.3.1-py3-none-any.whl (39 kB)\n",
            "Collecting nf1\n",
            "  Downloading nf1-0.0.4-py3-none-any.whl (18 kB)\n",
            "Collecting pulp\n",
            "  Downloading PuLP-2.6.0-py3-none-any.whl (14.2 MB)\n",
            "\u001b[K     |████████████████████████████████| 14.2 MB 69.9 MB/s \n",
            "\u001b[?25hCollecting bimlpa\n",
            "  Downloading bimlpa-0.1.2-py3-none-any.whl (7.0 kB)\n",
            "Requirement already satisfied: matplotlib in /usr/local/lib/python3.7/dist-packages (from cdlib) (3.2.2)\n",
            "Requirement already satisfied: tqdm in /usr/local/lib/python3.7/dist-packages (from cdlib) (4.64.1)\n",
            "Collecting markov-clustering\n",
            "  Downloading markov_clustering-0.0.6.dev0-py3-none-any.whl (6.3 kB)\n",
            "Requirement already satisfied: pooch in /usr/local/lib/python3.7/dist-packages (from cdlib) (1.6.0)\n",
            "Collecting pyclustering\n",
            "  Downloading pyclustering-0.10.1.2.tar.gz (2.6 MB)\n",
            "\u001b[K     |████████████████████████████████| 2.6 MB 49.7 MB/s \n",
            "\u001b[?25hCollecting eva-lcd\n",
            "  Downloading eva_lcd-0.1.1-py3-none-any.whl (9.2 kB)\n",
            "Collecting demon\n",
            "  Downloading demon-2.0.6-py3-none-any.whl (7.3 kB)\n",
            "Collecting thresholdclustering\n",
            "  Downloading thresholdclustering-1.1-py3-none-any.whl (5.3 kB)\n",
            "Requirement already satisfied: networkx>=2.4 in /usr/local/lib/python3.7/dist-packages (from cdlib) (2.6.3)\n",
            "Requirement already satisfied: python-louvain>=0.16 in /usr/local/lib/python3.7/dist-packages (from cdlib) (0.16)\n",
            "Requirement already satisfied: scipy in /usr/local/lib/python3.7/dist-packages (from cdlib) (1.7.3)\n",
            "Requirement already satisfied: future in /usr/local/lib/python3.7/dist-packages (from cdlib) (0.16.0)\n",
            "Collecting angel-cd\n",
            "  Downloading angel_cd-1.0.3-py3-none-any.whl (10 kB)\n",
            "Requirement already satisfied: cython in /usr/local/lib/python3.7/dist-packages (from cdlib) (0.29.32)\n",
            "Requirement already satisfied: seaborn in /usr/local/lib/python3.7/dist-packages (from cdlib) (0.11.2)\n",
            "Requirement already satisfied: numpy in /usr/local/lib/python3.7/dist-packages (from cdlib) (1.21.6)\n",
            "Collecting python-Levenshtein\n",
            "  Downloading python_Levenshtein-0.20.7-py3-none-any.whl (9.4 kB)\n",
            "Collecting chinese-whispers\n",
            "  Downloading chinese_whispers-0.8.0-py3-none-any.whl (7.7 kB)\n",
            "Requirement already satisfied: scikit-learn in /usr/local/lib/python3.7/dist-packages (from cdlib) (1.0.2)\n",
            "Collecting python-igraph\n",
            "  Downloading python-igraph-0.10.2.tar.gz (9.5 kB)\n",
            "Requirement already satisfied: pandas in /usr/local/lib/python3.7/dist-packages (from cdlib) (1.3.5)\n",
            "Requirement already satisfied: decorator in /usr/local/lib/python3.7/dist-packages (from dynetx->cdlib) (4.4.2)\n",
            "Requirement already satisfied: pyparsing!=2.0.4,!=2.1.2,!=2.1.6,>=2.0.1 in /usr/local/lib/python3.7/dist-packages (from matplotlib->cdlib) (3.0.9)\n",
            "Requirement already satisfied: cycler>=0.10 in /usr/local/lib/python3.7/dist-packages (from matplotlib->cdlib) (0.11.0)\n",
            "Requirement already satisfied: kiwisolver>=1.0.1 in /usr/local/lib/python3.7/dist-packages (from matplotlib->cdlib) (1.4.4)\n",
            "Requirement already satisfied: python-dateutil>=2.1 in /usr/local/lib/python3.7/dist-packages (from matplotlib->cdlib) (2.8.2)\n",
            "Requirement already satisfied: typing-extensions in /usr/local/lib/python3.7/dist-packages (from kiwisolver>=1.0.1->matplotlib->cdlib) (4.1.1)\n",
            "Requirement already satisfied: six>=1.5 in /usr/local/lib/python3.7/dist-packages (from python-dateutil>=2.1->matplotlib->cdlib) (1.15.0)\n",
            "Requirement already satisfied: pytz>=2017.3 in /usr/local/lib/python3.7/dist-packages (from pandas->cdlib) (2022.4)\n",
            "Requirement already satisfied: packaging>=20.0 in /usr/local/lib/python3.7/dist-packages (from pooch->cdlib) (21.3)\n",
            "Requirement already satisfied: appdirs>=1.3.0 in /usr/local/lib/python3.7/dist-packages (from pooch->cdlib) (1.4.4)\n",
            "Requirement already satisfied: requests>=2.19.0 in /usr/local/lib/python3.7/dist-packages (from pooch->cdlib) (2.23.0)\n",
            "Requirement already satisfied: idna<3,>=2.5 in /usr/local/lib/python3.7/dist-packages (from requests>=2.19.0->pooch->cdlib) (2.10)\n",
            "Requirement already satisfied: certifi>=2017.4.17 in /usr/local/lib/python3.7/dist-packages (from requests>=2.19.0->pooch->cdlib) (2022.9.24)\n",
            "Requirement already satisfied: chardet<4,>=3.0.2 in /usr/local/lib/python3.7/dist-packages (from requests>=2.19.0->pooch->cdlib) (3.0.4)\n",
            "Requirement already satisfied: urllib3!=1.25.0,!=1.25.1,<1.26,>=1.21.1 in /usr/local/lib/python3.7/dist-packages (from requests>=2.19.0->pooch->cdlib) (1.24.3)\n",
            "Requirement already satisfied: Pillow>=5.2.0 in /usr/local/lib/python3.7/dist-packages (from pyclustering->cdlib) (7.1.2)\n",
            "Collecting igraph==0.10.2\n",
            "  Downloading igraph-0.10.2-cp37-cp37m-manylinux_2_17_x86_64.manylinux2014_x86_64.whl (3.2 MB)\n",
            "\u001b[K     |████████████████████████████████| 3.2 MB 49.0 MB/s \n",
            "\u001b[?25hCollecting texttable>=1.6.2\n",
            "  Downloading texttable-1.6.4-py2.py3-none-any.whl (10 kB)\n",
            "Collecting Levenshtein==0.20.7\n",
            "  Downloading Levenshtein-0.20.7-cp37-cp37m-manylinux_2_17_x86_64.manylinux2014_x86_64.whl (175 kB)\n",
            "\u001b[K     |████████████████████████████████| 175 kB 69.7 MB/s \n",
            "\u001b[?25hCollecting rapidfuzz<3.0.0,>=2.3.0\n",
            "  Downloading rapidfuzz-2.12.0-cp37-cp37m-manylinux_2_17_x86_64.manylinux2014_x86_64.whl (2.2 MB)\n",
            "\u001b[K     |████████████████████████████████| 2.2 MB 49.8 MB/s \n",
            "\u001b[?25hRequirement already satisfied: joblib>=0.11 in /usr/local/lib/python3.7/dist-packages (from scikit-learn->cdlib) (1.2.0)\n",
            "Requirement already satisfied: threadpoolctl>=2.0.0 in /usr/local/lib/python3.7/dist-packages (from scikit-learn->cdlib) (3.1.0)\n",
            "Building wheels for collected packages: pyclustering, python-igraph\n",
            "  Building wheel for pyclustering (setup.py) ... \u001b[?25l\u001b[?25hdone\n",
            "  Created wheel for pyclustering: filename=pyclustering-0.10.1.2-py3-none-any.whl size=2395122 sha256=a5ebe1e919f04443bec776ab1c9cac12e17f5ca66d7cbe9a40ca354843b5d301\n",
            "  Stored in directory: /root/.cache/pip/wheels/ea/87/6b/1e0568b5ba9dc6518a25338bae90bd8392f35206bb90bb10f1\n",
            "  Building wheel for python-igraph (setup.py) ... \u001b[?25l\u001b[?25hdone\n",
            "  Created wheel for python-igraph: filename=python_igraph-0.10.2-py3-none-any.whl size=9074 sha256=7120c2fa4afeb58de91f2fd051ee574f53675c9559dc7e0f9fee6e5fb220c89f\n",
            "  Stored in directory: /root/.cache/pip/wheels/74/1d/33/83ec153aa37c92957b2edb888f4f42fdea9b7ac89f4b919391\n",
            "Successfully built pyclustering python-igraph\n",
            "Installing collected packages: texttable, rapidfuzz, igraph, python-igraph, Levenshtein, thresholdclustering, python-Levenshtein, pyclustering, pulp, nf1, markov-clustering, eva-lcd, dynetx, demon, chinese-whispers, bimlpa, angel-cd, cdlib\n",
            "Successfully installed Levenshtein-0.20.7 angel-cd-1.0.3 bimlpa-0.1.2 cdlib-0.2.6 chinese-whispers-0.8.0 demon-2.0.6 dynetx-0.3.1 eva-lcd-0.1.1 igraph-0.10.2 markov-clustering-0.0.6.dev0 nf1-0.0.4 pulp-2.6.0 pyclustering-0.10.1.2 python-Levenshtein-0.20.7 python-igraph-0.10.2 rapidfuzz-2.12.0 texttable-1.6.4 thresholdclustering-1.1\n"
          ]
        }
      ]
    },
    {
      "cell_type": "code",
      "source": [
        "pip install --upgrade networkx"
      ],
      "metadata": {
        "colab": {
          "base_uri": "https://localhost:8080/"
        },
        "id": "V_4WBkyp4X-h",
        "outputId": "4807b2b2-f30b-403d-8693-b406e5c29b5d"
      },
      "execution_count": 2,
      "outputs": [
        {
          "output_type": "stream",
          "name": "stdout",
          "text": [
            "Looking in indexes: https://pypi.org/simple, https://us-python.pkg.dev/colab-wheels/public/simple/\n",
            "Requirement already satisfied: networkx in /usr/local/lib/python3.7/dist-packages (2.6.3)\n"
          ]
        }
      ]
    },
    {
      "cell_type": "code",
      "execution_count": 3,
      "metadata": {
        "id": "I06Ya0XtovRH"
      },
      "outputs": [],
      "source": [
        "import networkx as nx\n",
        "import matplotlib.pyplot as plt\n",
        "from networkx.algorithms import community\n",
        "from random import sample\n",
        "import numpy as np"
      ]
    },
    {
      "cell_type": "code",
      "source": [
        "filenameTwitter = \"/content/twitter/1046661.edges\""
      ],
      "metadata": {
        "id": "hg4waFjQvhcF"
      },
      "execution_count": 4,
      "outputs": []
    },
    {
      "cell_type": "code",
      "source": [
        "filenameFacebook = \"/content/facebook/414.edges\""
      ],
      "metadata": {
        "id": "uHAZUVJT09e8"
      },
      "execution_count": 12,
      "outputs": []
    },
    {
      "cell_type": "code",
      "source": [
        "graphTwitter = nx.DiGraph()\n",
        "\n",
        "with open(filenameTwitter) as f:\n",
        "    for line in f:\n",
        "        x = line.split()\n",
        "        a = int(x[0])\n",
        "        b = int(x[1])\n",
        "        \n",
        "        if a not in list(graphTwitter.nodes):\n",
        "            graphTwitter.add_node(a)\n",
        "        if b not in list(graphTwitter.nodes):\n",
        "            graphTwitter.add_node(b)\n",
        "\n",
        "        graphTwitter.add_edge(a, b)"
      ],
      "metadata": {
        "id": "PaxlPJYDvmIc"
      },
      "execution_count": 5,
      "outputs": []
    },
    {
      "cell_type": "code",
      "source": [
        "graphFacebook = nx.Graph()\n",
        "\n",
        "with open(filenameTwitter) as f:\n",
        "    for line in f:\n",
        "        x = line.split()\n",
        "        a = int(x[0])\n",
        "        b = int(x[1])\n",
        "        \n",
        "        if a not in list(graphTwitter.nodes):\n",
        "            graphTwitter.add_node(a)\n",
        "        if b not in list(graphTwitter.nodes):\n",
        "            graphTwitter.add_node(b)\n",
        "\n",
        "        graphTwitter.add_edge(a, b)"
      ],
      "metadata": {
        "id": "YXj0hcD00N6Z"
      },
      "execution_count": 13,
      "outputs": []
    },
    {
      "cell_type": "markdown",
      "source": [
        "#Question (a)"
      ],
      "metadata": {
        "id": "50hrLSycE-It"
      }
    },
    {
      "cell_type": "code",
      "source": [
        "listOfNodesWithCorrespondingDegrees = list(graphTwitter.degree(list(graphTwitter.nodes)))\n",
        "sortedListOfNodesWithCorrespondingDegrees = sorted(\n",
        "    listOfNodesWithCorrespondingDegrees,\n",
        "    key=lambda t: t[1],\n",
        "    reverse=True)\n",
        "\n",
        "tenNodesWithHighestDegree = []\n",
        "\n",
        "for i in range(0, 10):\n",
        "  tenNodesWithHighestDegree.append(sortedListOfNodesWithCorrespondingDegrees[i])\n",
        "  \n",
        "tenNodes = []\n",
        "\n",
        "for i in range(0, 10):\n",
        "  tenNodes.append(tenNodesWithHighestDegree[i][0])\n",
        "print(\"The ten chosen nodes are\", tenNodes)"
      ],
      "metadata": {
        "colab": {
          "base_uri": "https://localhost:8080/"
        },
        "id": "PXtNd1zXFAzO",
        "outputId": "591b15a6-10b3-4803-af5d-a70d0295684f"
      },
      "execution_count": 6,
      "outputs": [
        {
          "output_type": "stream",
          "name": "stdout",
          "text": [
            "The ten chosen nodes are [991221, 1116721, 1117341, 1044591, 678953, 1118781, 1268821, 1047451, 1048661, 1269251]\n"
          ]
        }
      ]
    },
    {
      "cell_type": "code",
      "source": [
        "inducedTwitter = nx.induced_subgraph(graphTwitter, tenNodes)\n",
        "nx.draw(inducedTwitter)"
      ],
      "metadata": {
        "colab": {
          "base_uri": "https://localhost:8080/",
          "height": 319
        },
        "id": "XUR2ijR2Iry9",
        "outputId": "88215999-b30e-400d-e370-6579a86fbb2f"
      },
      "execution_count": 10,
      "outputs": [
        {
          "output_type": "display_data",
          "data": {
            "text/plain": [
              "<Figure size 432x288 with 1 Axes>"
            ],
            "image/png": "[encoded data removed]"
          },
          "metadata": {}
        }
      ]
    },
    {
      "cell_type": "markdown",
      "source": [
        "#Question (b)"
      ],
      "metadata": {
        "id": "nd7WU7EF85k_"
      }
    },
    {
      "cell_type": "markdown",
      "source": [
        "For community detection, there are the following algorithms:\n",
        "\n",
        "* Girvan-Newman algorithm\n",
        "* Greedy_modularity_communities algorithm\n",
        "* K-means algorithm\n"
      ],
      "metadata": {
        "id": "j0TWcDZn9Iul"
      }
    },
    {
      "cell_type": "markdown",
      "source": [
        "#Question (c)"
      ],
      "metadata": {
        "id": "aAFxADhd93ij"
      }
    },
    {
      "cell_type": "code",
      "source": [
        "def draw_circular_networkx(G, color_map, name):\n",
        "  plt.figure(figsize = (20, 20))\n",
        "  ax = plt.gca()\n",
        "  ax.set_title(name)\n",
        "  nx.draw_networkx(G,node_color=color_map, pos=nx.circular_layout(G))"
      ],
      "metadata": {
        "id": "Rp-8aKz0SH_X"
      },
      "execution_count": 7,
      "outputs": []
    },
    {
      "cell_type": "code",
      "source": [
        "def draw_plot_networkx(G, color_map, name):\n",
        "  plt.figure(figsize = (20, 20))\n",
        "  ax = plt.gca()\n",
        "  ax.set_title(name)\n",
        "  nx.draw_networkx(G ,node_color=color_map, pos=nx.spring_layout(G), with_labels = True, ax=ax)"
      ],
      "metadata": {
        "id": "yxI43S_kSLsO"
      },
      "execution_count": 8,
      "outputs": []
    },
    {
      "cell_type": "code",
      "source": [
        "def get_color_map(nodeGroups):\n",
        "  listOfColors = []\n",
        "\n",
        "  for i in range(len(nodeGroups)):\n",
        "    listOfColors.append(list(np.random.choice(range(255),size=3)))\n",
        "\n",
        "  for i in range(len(listOfColors)):\n",
        "    for j in range(3):\n",
        "      listOfColors[i][j] = listOfColors[i][j] /255\n",
        "\n",
        "  colorMap = []\n",
        "\n",
        "  for node in graphTwitter:\n",
        "    for i in range(len(nodeGroups)):\n",
        "      if node in nodeGroups[i]:\n",
        "        colorMap.append(listOfColors[i])\n",
        "  \n",
        "  return colorMap"
      ],
      "metadata": {
        "id": "fbPU7YKxVctU"
      },
      "execution_count": 9,
      "outputs": []
    },
    {
      "cell_type": "markdown",
      "source": [
        "Girvan-Newman algorithm"
      ],
      "metadata": {
        "id": "FzRdvpw62Le9"
      }
    },
    {
      "cell_type": "code",
      "source": [
        "communitiesGN = community.girvan_newman(graphTwitter)"
      ],
      "metadata": {
        "id": "6NnsFqADPhSz"
      },
      "execution_count": 58,
      "outputs": []
    },
    {
      "cell_type": "code",
      "source": [
        "nodeGroupsGN = []\n",
        "\n",
        "for community in next(communitiesGN):\n",
        "  nodeGroupsGN.append(list(community))\n",
        "\n",
        "print(\"There is\", len(nodeGroupsGN), \"communities in the Twitter Ego.\")"
      ],
      "metadata": {
        "colab": {
          "base_uri": "https://localhost:8080/"
        },
        "id": "rpa6FPLCNu4j",
        "outputId": "d26d2db6-de65-4be0-a1f6-52d905933162"
      },
      "execution_count": 59,
      "outputs": [
        {
          "output_type": "stream",
          "name": "stdout",
          "text": [
            "There is 3 communities in the Twitter Ego.\n"
          ]
        }
      ]
    },
    {
      "cell_type": "code",
      "source": [
        "colorMapGN = get_color_map(nodeGroupsGN)"
      ],
      "metadata": {
        "id": "Yyrw_MjHPyuS"
      },
      "execution_count": 60,
      "outputs": []
    },
    {
      "cell_type": "code",
      "source": [
        "draw_plot_networkx(graphTwitter, colorMapGN, \"Twitter-Ego with different communities found by Girvan-Newman algorithm\")"
      ],
      "metadata": {
        "id": "rwLtOxt5N-BL"
      },
      "execution_count": null,
      "outputs": []
    },
    {
      "cell_type": "code",
      "source": [
        "draw_circular_networkx(graphTwitter, colorMapGN, \"Twitter-Ego with different communities found by Girvan-Newman algorithm\")"
      ],
      "metadata": {
        "id": "MbsZpBi92GrB"
      },
      "execution_count": null,
      "outputs": []
    },
    {
      "cell_type": "markdown",
      "source": [
        "Greedy-modularity-communities detection algorithm"
      ],
      "metadata": {
        "id": "qHa9sIbnTeOb"
      }
    },
    {
      "cell_type": "code",
      "source": [
        "from networkx.algorithms import community\n",
        "communitiesGMC = community.greedy_modularity_communities(graphTwitter)"
      ],
      "metadata": {
        "id": "8xzz1kat3MnU"
      },
      "execution_count": 63,
      "outputs": []
    },
    {
      "cell_type": "code",
      "source": [
        "print(\"There is\", len(communitiesGMC), \"communities in the Twitter Ego.\")"
      ],
      "metadata": {
        "colab": {
          "base_uri": "https://localhost:8080/"
        },
        "id": "jzfN6lYHTnuK",
        "outputId": "3a99fdb6-c77c-40bf-a2a1-f399f35a0105"
      },
      "execution_count": 64,
      "outputs": [
        {
          "output_type": "stream",
          "name": "stdout",
          "text": [
            "There is 6 communities in the Twitter Ego.\n"
          ]
        }
      ]
    },
    {
      "cell_type": "code",
      "source": [
        "colorMapGMC = get_color_map(communitiesGMC)"
      ],
      "metadata": {
        "id": "h8b-cuuDTnr9"
      },
      "execution_count": 65,
      "outputs": []
    },
    {
      "cell_type": "code",
      "source": [
        "draw_plot_networkx(graphTwitter, colorMapGMC, \"Twitter-Ego with different communities found by Greedy-Morality-Communities algorithm\")"
      ],
      "metadata": {
        "id": "NZ70FzPbTnpZ"
      },
      "execution_count": null,
      "outputs": []
    },
    {
      "cell_type": "code",
      "source": [
        "draw_circular_networkx(graphTwitter, colorMapGMC, \"Twitter-Ego with different communities found by Greedy-Morality-Communities algorithm\")"
      ],
      "metadata": {
        "id": "rYkufqRsTnnL"
      },
      "execution_count": null,
      "outputs": []
    },
    {
      "cell_type": "markdown",
      "source": [
        "K-clique communities"
      ],
      "metadata": {
        "id": "wB7MfvyYW73P"
      }
    },
    {
      "cell_type": "code",
      "source": [
        "communityKC = community.k_clique_communities(graphFacebook, 2)"
      ],
      "metadata": {
        "id": "9Nq6TjI-W7lR"
      },
      "execution_count": 68,
      "outputs": []
    },
    {
      "cell_type": "code",
      "source": [
        "helpList = list(communityKC)"
      ],
      "metadata": {
        "id": "9oOl1zXbW6sF"
      },
      "execution_count": 69,
      "outputs": []
    },
    {
      "cell_type": "code",
      "source": [
        "print(helpList)"
      ],
      "metadata": {
        "colab": {
          "base_uri": "https://localhost:8080/"
        },
        "id": "vwh8HQtTTnkk",
        "outputId": "0ea1654d-0431-4c40-93aa-fe6a6e2fe552"
      },
      "execution_count": 70,
      "outputs": [
        {
          "output_type": "stream",
          "name": "stdout",
          "text": [
            "[]\n"
          ]
        }
      ]
    },
    {
      "cell_type": "code",
      "source": [
        "from community import community_louvain\n",
        "comms = community_louvain.best_partition(graphFacebook)"
      ],
      "metadata": {
        "id": "uz3TczZfTniO"
      },
      "execution_count": 71,
      "outputs": []
    },
    {
      "cell_type": "code",
      "source": [
        "unique_coms = np.unique(list(comms.values()))\n",
        "print(len(unique_coms))"
      ],
      "metadata": {
        "colab": {
          "base_uri": "https://localhost:8080/"
        },
        "id": "8ePBCcybTnfh",
        "outputId": "05263a93-fde8-4723-8866-ecf59618c201"
      },
      "execution_count": 72,
      "outputs": [
        {
          "output_type": "stream",
          "name": "stdout",
          "text": [
            "0\n"
          ]
        }
      ]
    },
    {
      "cell_type": "code",
      "source": [],
      "metadata": {
        "id": "TT9bzdvJTnL6"
      },
      "execution_count": 72,
      "outputs": []
    }
  ]
}