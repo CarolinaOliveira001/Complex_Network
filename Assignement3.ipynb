{
  "nbformat": 4,
  "nbformat_minor": 0,
  "metadata": {
    "colab": {
      "provenance": [],
      "collapsed_sections": [],
      "authorship_tag": "ABX9TyOX4r58CtFMcjPYoBRv+kFi",
      "include_colab_link": true
    },
    "kernelspec": {
      "name": "python3",
      "display_name": "Python 3"
    },
    "language_info": {
      "name": "python"
    }
  },
  "cells": [
    {
      "cell_type": "markdown",
      "metadata": {
        "id": "view-in-github",
        "colab_type": "text"
      },
      "source": [
        "<a href=\"https://colab.research.google.com/github/CarolinaOliveira001/Complex_Network/blob/main/Assignement3.ipynb\" target=\"_parent\"><img src=\"https://colab.research.google.com/assets/colab-badge.svg\" alt=\"Open In Colab\"/></a>"
      ]
    },
    {
      "cell_type": "code",
      "execution_count": 1,
      "metadata": {
        "colab": {
          "base_uri": "https://localhost:8080/"
        },
        "id": "zDWDqpIglFMu",
        "outputId": "38e6e656-1707-47c0-c533-dc7b6bf6ec06"
      },
      "outputs": [
        {
          "output_type": "stream",
          "name": "stdout",
          "text": [
            "Looking in indexes: https://pypi.org/simple, https://us-python.pkg.dev/colab-wheels/public/simple/\n",
            "Collecting snap-stanford\n",
            "  Downloading snap_stanford-6.0.0-cp37-cp37m-manylinux1_x86_64.whl (11.6 MB)\n",
            "\u001b[K     |████████████████████████████████| 11.6 MB 28.8 MB/s \n",
            "\u001b[?25hInstalling collected packages: snap-stanford\n",
            "Successfully installed snap-stanford-6.0.0\n"
          ]
        }
      ],
      "source": [
        "!pip install snap-stanford"
      ]
    },
    {
      "cell_type": "code",
      "source": [
        "!pip install gnuplot_kernel"
      ],
      "metadata": {
        "colab": {
          "base_uri": "https://localhost:8080/",
          "height": 1000
        },
        "id": "egv2dBR_lG5l",
        "outputId": "5e78b134-0ff0-47f7-df5c-f8240cdc0669"
      },
      "execution_count": 2,
      "outputs": [
        {
          "output_type": "stream",
          "name": "stdout",
          "text": [
            "Looking in indexes: https://pypi.org/simple, https://us-python.pkg.dev/colab-wheels/public/simple/\n",
            "Collecting gnuplot_kernel\n",
            "  Downloading gnuplot_kernel-0.4.1-py3-none-any.whl (19 kB)\n",
            "Collecting notebook>=5.5.0\n",
            "  Downloading notebook-6.4.12-py3-none-any.whl (9.9 MB)\n",
            "\u001b[K     |████████████████████████████████| 9.9 MB 38.6 MB/s \n",
            "\u001b[?25hCollecting metakernel>=0.24.4\n",
            "  Downloading metakernel-0.29.2-py3-none-any.whl (217 kB)\n",
            "\u001b[K     |████████████████████████████████| 217 kB 88.8 MB/s \n",
            "\u001b[?25hCollecting ipykernel>=5.5.6\n",
            "  Downloading ipykernel-6.16.0-py3-none-any.whl (138 kB)\n",
            "\u001b[K     |████████████████████████████████| 138 kB 70.9 MB/s \n",
            "\u001b[?25hRequirement already satisfied: jupyter-core>=4.9.2 in /usr/local/lib/python3.7/dist-packages (from metakernel>=0.24.4->gnuplot_kernel) (4.11.1)\n",
            "Collecting jedi>=0.18\n",
            "  Downloading jedi-0.18.1-py2.py3-none-any.whl (1.6 MB)\n",
            "\u001b[K     |████████████████████████████████| 1.6 MB 56.5 MB/s \n",
            "\u001b[?25hRequirement already satisfied: pexpect>=4.8 in /usr/local/lib/python3.7/dist-packages (from metakernel>=0.24.4->gnuplot_kernel) (4.8.0)\n",
            "Collecting matplotlib-inline>=0.1\n",
            "  Downloading matplotlib_inline-0.1.6-py3-none-any.whl (9.4 kB)\n",
            "Collecting nest-asyncio\n",
            "  Downloading nest_asyncio-1.5.6-py3-none-any.whl (5.2 kB)\n",
            "Requirement already satisfied: debugpy>=1.0 in /usr/local/lib/python3.7/dist-packages (from ipykernel>=5.5.6->metakernel>=0.24.4->gnuplot_kernel) (1.0.0)\n",
            "Requirement already satisfied: jupyter-client>=6.1.12 in /usr/local/lib/python3.7/dist-packages (from ipykernel>=5.5.6->metakernel>=0.24.4->gnuplot_kernel) (6.1.12)\n",
            "Requirement already satisfied: packaging in /usr/local/lib/python3.7/dist-packages (from ipykernel>=5.5.6->metakernel>=0.24.4->gnuplot_kernel) (21.3)\n",
            "Requirement already satisfied: traitlets>=5.1.0 in /usr/local/lib/python3.7/dist-packages (from ipykernel>=5.5.6->metakernel>=0.24.4->gnuplot_kernel) (5.1.1)\n",
            "Requirement already satisfied: psutil in /usr/local/lib/python3.7/dist-packages (from ipykernel>=5.5.6->metakernel>=0.24.4->gnuplot_kernel) (5.4.8)\n",
            "Collecting ipython>=7.23.1\n",
            "  Downloading ipython-7.34.0-py3-none-any.whl (793 kB)\n",
            "\u001b[K     |████████████████████████████████| 793 kB 65.1 MB/s \n",
            "\u001b[?25hRequirement already satisfied: pyzmq>=17 in /usr/local/lib/python3.7/dist-packages (from ipykernel>=5.5.6->metakernel>=0.24.4->gnuplot_kernel) (23.2.1)\n",
            "Collecting tornado>=6.1\n",
            "  Downloading tornado-6.2-cp37-abi3-manylinux_2_5_x86_64.manylinux1_x86_64.manylinux_2_17_x86_64.manylinux2014_x86_64.whl (423 kB)\n",
            "\u001b[K     |████████████████████████████████| 423 kB 74.0 MB/s \n",
            "\u001b[?25hRequirement already satisfied: pickleshare in /usr/local/lib/python3.7/dist-packages (from ipython>=7.23.1->ipykernel>=5.5.6->metakernel>=0.24.4->gnuplot_kernel) (0.7.5)\n",
            "Requirement already satisfied: prompt-toolkit!=3.0.0,!=3.0.1,<3.1.0,>=2.0.0 in /usr/local/lib/python3.7/dist-packages (from ipython>=7.23.1->ipykernel>=5.5.6->metakernel>=0.24.4->gnuplot_kernel) (2.0.10)\n",
            "Requirement already satisfied: setuptools>=18.5 in /usr/local/lib/python3.7/dist-packages (from ipython>=7.23.1->ipykernel>=5.5.6->metakernel>=0.24.4->gnuplot_kernel) (57.4.0)\n",
            "Requirement already satisfied: decorator in /usr/local/lib/python3.7/dist-packages (from ipython>=7.23.1->ipykernel>=5.5.6->metakernel>=0.24.4->gnuplot_kernel) (4.4.2)\n",
            "Requirement already satisfied: pygments in /usr/local/lib/python3.7/dist-packages (from ipython>=7.23.1->ipykernel>=5.5.6->metakernel>=0.24.4->gnuplot_kernel) (2.6.1)\n",
            "Requirement already satisfied: backcall in /usr/local/lib/python3.7/dist-packages (from ipython>=7.23.1->ipykernel>=5.5.6->metakernel>=0.24.4->gnuplot_kernel) (0.2.0)\n",
            "Requirement already satisfied: parso<0.9.0,>=0.8.0 in /usr/local/lib/python3.7/dist-packages (from jedi>=0.18->metakernel>=0.24.4->gnuplot_kernel) (0.8.3)\n",
            "Requirement already satisfied: python-dateutil>=2.1 in /usr/local/lib/python3.7/dist-packages (from jupyter-client>=6.1.12->ipykernel>=5.5.6->metakernel>=0.24.4->gnuplot_kernel) (2.8.2)\n",
            "Requirement already satisfied: jinja2 in /usr/local/lib/python3.7/dist-packages (from notebook>=5.5.0->gnuplot_kernel) (2.11.3)\n",
            "Requirement already satisfied: nbconvert>=5 in /usr/local/lib/python3.7/dist-packages (from notebook>=5.5.0->gnuplot_kernel) (5.6.1)\n",
            "Collecting prometheus-client\n",
            "  Downloading prometheus_client-0.14.1-py3-none-any.whl (59 kB)\n",
            "\u001b[K     |████████████████████████████████| 59 kB 8.4 MB/s \n",
            "\u001b[?25hRequirement already satisfied: nbformat in /usr/local/lib/python3.7/dist-packages (from notebook>=5.5.0->gnuplot_kernel) (5.6.1)\n",
            "Requirement already satisfied: ipython-genutils in /usr/local/lib/python3.7/dist-packages (from notebook>=5.5.0->gnuplot_kernel) (0.2.0)\n",
            "Requirement already satisfied: terminado>=0.8.3 in /usr/local/lib/python3.7/dist-packages (from notebook>=5.5.0->gnuplot_kernel) (0.13.3)\n",
            "Requirement already satisfied: Send2Trash>=1.8.0 in /usr/local/lib/python3.7/dist-packages (from notebook>=5.5.0->gnuplot_kernel) (1.8.0)\n",
            "Collecting argon2-cffi\n",
            "  Downloading argon2_cffi-21.3.0-py3-none-any.whl (14 kB)\n",
            "Requirement already satisfied: mistune<2,>=0.8.1 in /usr/local/lib/python3.7/dist-packages (from nbconvert>=5->notebook>=5.5.0->gnuplot_kernel) (0.8.4)\n",
            "Requirement already satisfied: entrypoints>=0.2.2 in /usr/local/lib/python3.7/dist-packages (from nbconvert>=5->notebook>=5.5.0->gnuplot_kernel) (0.4)\n",
            "Requirement already satisfied: pandocfilters>=1.4.1 in /usr/local/lib/python3.7/dist-packages (from nbconvert>=5->notebook>=5.5.0->gnuplot_kernel) (1.5.0)\n",
            "Requirement already satisfied: defusedxml in /usr/local/lib/python3.7/dist-packages (from nbconvert>=5->notebook>=5.5.0->gnuplot_kernel) (0.7.1)\n",
            "Requirement already satisfied: bleach in /usr/local/lib/python3.7/dist-packages (from nbconvert>=5->notebook>=5.5.0->gnuplot_kernel) (5.0.1)\n",
            "Requirement already satisfied: testpath in /usr/local/lib/python3.7/dist-packages (from nbconvert>=5->notebook>=5.5.0->gnuplot_kernel) (0.6.0)\n",
            "Requirement already satisfied: MarkupSafe>=0.23 in /usr/local/lib/python3.7/dist-packages (from jinja2->notebook>=5.5.0->gnuplot_kernel) (2.0.1)\n",
            "Requirement already satisfied: jsonschema>=2.6 in /usr/local/lib/python3.7/dist-packages (from nbformat->notebook>=5.5.0->gnuplot_kernel) (4.3.3)\n",
            "Requirement already satisfied: fastjsonschema in /usr/local/lib/python3.7/dist-packages (from nbformat->notebook>=5.5.0->gnuplot_kernel) (2.16.2)\n",
            "Requirement already satisfied: importlib-metadata>=3.6 in /usr/local/lib/python3.7/dist-packages (from nbformat->notebook>=5.5.0->gnuplot_kernel) (5.0.0)\n",
            "Requirement already satisfied: typing-extensions>=3.6.4 in /usr/local/lib/python3.7/dist-packages (from importlib-metadata>=3.6->nbformat->notebook>=5.5.0->gnuplot_kernel) (4.1.1)\n",
            "Requirement already satisfied: zipp>=0.5 in /usr/local/lib/python3.7/dist-packages (from importlib-metadata>=3.6->nbformat->notebook>=5.5.0->gnuplot_kernel) (3.8.1)\n",
            "Requirement already satisfied: attrs>=17.4.0 in /usr/local/lib/python3.7/dist-packages (from jsonschema>=2.6->nbformat->notebook>=5.5.0->gnuplot_kernel) (22.1.0)\n",
            "Requirement already satisfied: pyrsistent!=0.17.0,!=0.17.1,!=0.17.2,>=0.14.0 in /usr/local/lib/python3.7/dist-packages (from jsonschema>=2.6->nbformat->notebook>=5.5.0->gnuplot_kernel) (0.18.1)\n",
            "Requirement already satisfied: importlib-resources>=1.4.0 in /usr/local/lib/python3.7/dist-packages (from jsonschema>=2.6->nbformat->notebook>=5.5.0->gnuplot_kernel) (5.9.0)\n",
            "Requirement already satisfied: ptyprocess>=0.5 in /usr/local/lib/python3.7/dist-packages (from pexpect>=4.8->metakernel>=0.24.4->gnuplot_kernel) (0.7.0)\n",
            "Requirement already satisfied: six>=1.9.0 in /usr/local/lib/python3.7/dist-packages (from prompt-toolkit!=3.0.0,!=3.0.1,<3.1.0,>=2.0.0->ipython>=7.23.1->ipykernel>=5.5.6->metakernel>=0.24.4->gnuplot_kernel) (1.15.0)\n",
            "Requirement already satisfied: wcwidth in /usr/local/lib/python3.7/dist-packages (from prompt-toolkit!=3.0.0,!=3.0.1,<3.1.0,>=2.0.0->ipython>=7.23.1->ipykernel>=5.5.6->metakernel>=0.24.4->gnuplot_kernel) (0.2.5)\n",
            "Collecting argon2-cffi-bindings\n",
            "  Downloading argon2_cffi_bindings-21.2.0-cp36-abi3-manylinux_2_17_x86_64.manylinux2014_x86_64.whl (86 kB)\n",
            "\u001b[K     |████████████████████████████████| 86 kB 6.4 MB/s \n",
            "\u001b[?25hRequirement already satisfied: cffi>=1.0.1 in /usr/local/lib/python3.7/dist-packages (from argon2-cffi-bindings->argon2-cffi->notebook>=5.5.0->gnuplot_kernel) (1.15.1)\n",
            "Requirement already satisfied: pycparser in /usr/local/lib/python3.7/dist-packages (from cffi>=1.0.1->argon2-cffi-bindings->argon2-cffi->notebook>=5.5.0->gnuplot_kernel) (2.21)\n",
            "Requirement already satisfied: webencodings in /usr/local/lib/python3.7/dist-packages (from bleach->nbconvert>=5->notebook>=5.5.0->gnuplot_kernel) (0.5.1)\n",
            "Requirement already satisfied: pyparsing!=3.0.5,>=2.0.2 in /usr/local/lib/python3.7/dist-packages (from packaging->ipykernel>=5.5.6->metakernel>=0.24.4->gnuplot_kernel) (3.0.9)\n",
            "Installing collected packages: tornado, matplotlib-inline, jedi, nest-asyncio, ipython, argon2-cffi-bindings, prometheus-client, ipykernel, argon2-cffi, notebook, metakernel, gnuplot-kernel\n",
            "  Attempting uninstall: tornado\n",
            "    Found existing installation: tornado 5.1.1\n",
            "    Uninstalling tornado-5.1.1:\n",
            "      Successfully uninstalled tornado-5.1.1\n",
            "  Attempting uninstall: ipython\n",
            "    Found existing installation: ipython 7.9.0\n",
            "    Uninstalling ipython-7.9.0:\n",
            "      Successfully uninstalled ipython-7.9.0\n",
            "  Attempting uninstall: ipykernel\n",
            "    Found existing installation: ipykernel 5.3.4\n",
            "    Uninstalling ipykernel-5.3.4:\n",
            "      Successfully uninstalled ipykernel-5.3.4\n",
            "  Attempting uninstall: notebook\n",
            "    Found existing installation: notebook 5.3.1\n",
            "    Uninstalling notebook-5.3.1:\n",
            "      Successfully uninstalled notebook-5.3.1\n",
            "\u001b[31mERROR: pip's dependency resolver does not currently take into account all the packages that are installed. This behaviour is the source of the following dependency conflicts.\n",
            "google-colab 1.0.0 requires ipykernel~=5.3.4, but you have ipykernel 6.16.0 which is incompatible.\n",
            "google-colab 1.0.0 requires ipython~=7.9.0, but you have ipython 7.34.0 which is incompatible.\n",
            "google-colab 1.0.0 requires notebook~=5.3.0, but you have notebook 6.4.12 which is incompatible.\n",
            "google-colab 1.0.0 requires tornado~=5.1.0, but you have tornado 6.2 which is incompatible.\u001b[0m\n",
            "Successfully installed argon2-cffi-21.3.0 argon2-cffi-bindings-21.2.0 gnuplot-kernel-0.4.1 ipykernel-6.16.0 ipython-7.34.0 jedi-0.18.1 matplotlib-inline-0.1.6 metakernel-0.29.2 nest-asyncio-1.5.6 notebook-6.4.12 prometheus-client-0.14.1 tornado-6.2\n"
          ]
        },
        {
          "output_type": "display_data",
          "data": {
            "application/vnd.colab-display-data+json": {
              "pip_warning": {
                "packages": [
                  "IPython",
                  "tornado"
                ]
              }
            }
          },
          "metadata": {}
        }
      ]
    },
    {
      "cell_type": "code",
      "source": [
        "import snap\n",
        "import numpy as np\n",
        "import matplotlib.pyplot as plt\n",
        "import os\n",
        "import networkx as nx"
      ],
      "metadata": {
        "id": "ERPGags7lNTm"
      },
      "execution_count": 1,
      "outputs": []
    },
    {
      "cell_type": "code",
      "source": [
        "filenameFacebook = \"/content/facebook/414.edges\"\n",
        "filenameTwitter = \"/content/twitter/1046661.edges\""
      ],
      "metadata": {
        "id": "a1RMXOFXlRE8"
      },
      "execution_count": 17,
      "outputs": []
    },
    {
      "cell_type": "code",
      "source": [
        "graphFacebook = nx.Graph()\n",
        "\n",
        "with open(filenameFacebook) as f:\n",
        "    for line in f:\n",
        "        x = line.split()\n",
        "        a = int(x[0])\n",
        "        b = int(x[1])\n",
        "        \n",
        "        if a not in list(graphFacebook.nodes):\n",
        "            graphFacebook.add_node(a)\n",
        "        if b not in list(graphFacebook.nodes):\n",
        "            graphFacebook.add_node(b)\n",
        "\n",
        "        graphFacebook.add_edge(a, b)"
      ],
      "metadata": {
        "id": "8ubYazvQlYDi"
      },
      "execution_count": 4,
      "outputs": []
    },
    {
      "cell_type": "code",
      "source": [
        "graphTwitter = nx.DiGraph()\n",
        "\n",
        "with open(filenameTwitter) as f:\n",
        "    for line in f:\n",
        "        x = line.split()\n",
        "        a = int(x[0])\n",
        "        b = int(x[1])\n",
        "        \n",
        "        if a not in list(graphTwitter.nodes):\n",
        "            graphTwitter.add_node(a)\n",
        "        if b not in list(graphTwitter.nodes):\n",
        "            graphTwitter.add_node(b)\n",
        "\n",
        "        graphTwitter.add_edge(a, b)"
      ],
      "metadata": {
        "id": "7CczCd9BUOhe"
      },
      "execution_count": 18,
      "outputs": []
    },
    {
      "cell_type": "code",
      "source": [
        "numberOfNodes = len(graphFacebook.nodes)\n",
        "print(numberOfNodes)"
      ],
      "metadata": {
        "colab": {
          "base_uri": "https://localhost:8080/"
        },
        "id": "rZtsbVIHmtLM",
        "outputId": "b579cdcf-9e26-4c5f-d6b9-0305f527e8c2"
      },
      "execution_count": 5,
      "outputs": [
        {
          "output_type": "stream",
          "name": "stdout",
          "text": [
            "150\n"
          ]
        }
      ]
    },
    {
      "cell_type": "code",
      "source": [
        "def draw_plot_networkx(G, name):\n",
        "  plt.figure(figsize = (20, 20))\n",
        "  ax = plt.gca()\n",
        "  ax.set_title(name)\n",
        "  nx.draw_networkx(G, pos=nx.spring_layout(G), with_labels = True, ax=ax)"
      ],
      "metadata": {
        "id": "_iWMFma5m4RJ"
      },
      "execution_count": 12,
      "outputs": []
    },
    {
      "cell_type": "code",
      "source": [
        "def draw_circular_networkx(G, name):\n",
        "  pos = nx.circular_layout(G)\n",
        "  plt.figure(figsize = (20, 20))\n",
        "  ax = plt.gca()\n",
        "  ax.set_title(name)\n",
        "  nx.draw_networkx(G, pos)"
      ],
      "metadata": {
        "id": "0QPkNxv9rFD7"
      },
      "execution_count": 32,
      "outputs": []
    },
    {
      "cell_type": "code",
      "source": [
        "def plot_degree_and_clustering_networkx(G):\n",
        "  gSubgraph = G.subgraph(max(nx.connected_components(G)))\n",
        "  degrees = [G.degree(n) for n in G.nodes()]\n",
        "  listOfClusteringCoeff = nx.clustering(gSubgraph) \n",
        "\n",
        "  fig, (ax1, ax2) = plt.subplots(ncols=2, figsize=(10, 4))\n",
        "  ax1.set_title('Histogram of the clustring coefficient Distribution')\n",
        "  ax1.hist(listOfClusteringCoeff.values())\n",
        "  ax1.set_xlabel('Clustering coefficient')\n",
        "  ax1.set_ylabel('Number of nodes')\n",
        "  ax2.set_title('Histogram of the degree Distribution')\n",
        "  ax2.hist(degrees)\n",
        "  ax2.set_xlabel('Degree')\n",
        "  ax2.set_ylabel('Number of nodes')\n",
        "  plt.tight_layout()\n",
        "  plt.show()"
      ],
      "metadata": {
        "id": "pzu22vpYnJN7"
      },
      "execution_count": 9,
      "outputs": []
    },
    {
      "cell_type": "code",
      "source": [
        "#Question (a)"
      ],
      "metadata": {
        "id": "PxAhMmFAobfB"
      },
      "execution_count": null,
      "outputs": []
    },
    {
      "cell_type": "code",
      "source": [
        "graphSmallWorld1 = nx.watts_strogatz_graph(numberOfNodes, 2, 0.5)\n",
        "graphSmallWorld2 = nx.watts_strogatz_graph(numberOfNodes, 2, 0.75)\n",
        "graphSmallWorld3 = nx.watts_strogatz_graph(numberOfNodes, 2, 0.25)\n",
        "\n",
        "graphSmallWorld4 = nx.watts_strogatz_graph(numberOfNodes, 4, 0.5)\n",
        "graphSmallWorld5 = nx.watts_strogatz_graph(numberOfNodes, 4, 0.75)\n",
        "graphSmallWorld6 = nx.watts_strogatz_graph(numberOfNodes, 4, 0.25)\n",
        "\n",
        "graphSmallWorld7 = nx.watts_strogatz_graph(numberOfNodes, 8, 0.5)\n",
        "graphSmallWorld8 = nx.watts_strogatz_graph(numberOfNodes, 8, 0.75)\n",
        "graphSmallWorld9 = nx.watts_strogatz_graph(numberOfNodes, 8, 0.25)"
      ],
      "metadata": {
        "id": "sHaWcX1dSgPl"
      },
      "execution_count": null,
      "outputs": []
    },
    {
      "cell_type": "code",
      "source": [
        "draw_plot_networkx(graphSmallWorld1, \"Watts-Strogatz graph with k = 2 and p = 0.5\")"
      ],
      "metadata": {
        "id": "h79vikH_SgNB"
      },
      "execution_count": null,
      "outputs": []
    },
    {
      "cell_type": "code",
      "source": [
        "draw_circular_networkx(graphSmallWorld1, \"Watts-Strogatz graph with k = 2 and p = 0.5\")"
      ],
      "metadata": {
        "id": "2lC2OJVESgKj"
      },
      "execution_count": null,
      "outputs": []
    },
    {
      "cell_type": "code",
      "source": [
        "plot_degree_and_clustering_networkx(graphSmallWorld1)"
      ],
      "metadata": {
        "id": "6m4QWV2ySgIG"
      },
      "execution_count": null,
      "outputs": []
    },
    {
      "cell_type": "code",
      "source": [
        "draw_plot_networkx(graphSmallWorld2, \"Watts-Strogatz graph with k = 2 and p = 0.75\")"
      ],
      "metadata": {
        "id": "41OuWIv_SgFt"
      },
      "execution_count": null,
      "outputs": []
    },
    {
      "cell_type": "code",
      "source": [
        "draw_circular_networkx(graphSmallWorld1, \"Watts-Strogatz graph with k = 2 and p = 0.75\")"
      ],
      "metadata": {
        "id": "atA-lf6mVaBj"
      },
      "execution_count": null,
      "outputs": []
    },
    {
      "cell_type": "code",
      "source": [
        "plot_degree_and_clustering_networkx(graphSmallWorld2)"
      ],
      "metadata": {
        "id": "4RTrPK5XSgDX"
      },
      "execution_count": null,
      "outputs": []
    },
    {
      "cell_type": "code",
      "source": [
        "draw_plot_networkx(graphSmallWorld3, \"Watts-Strogatz graph with k = 2 and p = 0.25\")"
      ],
      "metadata": {
        "id": "0TqJLqDiSgA1"
      },
      "execution_count": null,
      "outputs": []
    },
    {
      "cell_type": "code",
      "source": [
        "draw_circular_networkx(graphSmallWorld1, \"Watts-Strogatz graph with k = 2 and p = 0.25\")"
      ],
      "metadata": {
        "id": "kXOYjvqQVavP"
      },
      "execution_count": null,
      "outputs": []
    },
    {
      "cell_type": "code",
      "source": [
        "plot_degree_and_clustering_networkx(graphSmallWorld3)"
      ],
      "metadata": {
        "id": "pAGOnulcSf-G"
      },
      "execution_count": null,
      "outputs": []
    },
    {
      "cell_type": "code",
      "source": [
        "draw_plot_networkx(graphSmallWorld4, \"Watts-Strogatz graph with k = 4 and p = 0.5\")"
      ],
      "metadata": {
        "id": "iYNFXtwpTLEp"
      },
      "execution_count": null,
      "outputs": []
    },
    {
      "cell_type": "code",
      "source": [
        "draw_circular_networkx(graphSmallWorld1, \"Watts-Strogatz graph with k = 4 and p = 0.5\")"
      ],
      "metadata": {
        "id": "W1yAOB93VbZM"
      },
      "execution_count": null,
      "outputs": []
    },
    {
      "cell_type": "code",
      "source": [
        "plot_degree_and_clustering_networkx(graphSmallWorld4)"
      ],
      "metadata": {
        "id": "atLwbiP6TLA-"
      },
      "execution_count": null,
      "outputs": []
    },
    {
      "cell_type": "code",
      "source": [
        "draw_plot_networkx(graphSmallWorld5, \"Watts-Strogatz graph with k = 4 and p = 0.75\")"
      ],
      "metadata": {
        "id": "zULzCAmNTK-e"
      },
      "execution_count": null,
      "outputs": []
    },
    {
      "cell_type": "code",
      "source": [
        "draw_circular_networkx(graphSmallWorld1, \"Watts-Strogatz graph with k = 4 and p = 0.75\")"
      ],
      "metadata": {
        "id": "eP3CvQ7XVb8W"
      },
      "execution_count": null,
      "outputs": []
    },
    {
      "cell_type": "code",
      "source": [
        "plot_degree_and_clustering_networkx(graphSmallWorld5)"
      ],
      "metadata": {
        "id": "PuqRluhvTK7d"
      },
      "execution_count": null,
      "outputs": []
    },
    {
      "cell_type": "code",
      "source": [
        "draw_plot_networkx(graphSmallWorld6, \"Watts-Strogatz graph with k = 4 and p = 0.25\")"
      ],
      "metadata": {
        "id": "H8DjYjiQTK4V"
      },
      "execution_count": null,
      "outputs": []
    },
    {
      "cell_type": "code",
      "source": [
        "draw_circular_networkx(graphSmallWorld1, \"Watts-Strogatz graph with k = 4 and p = 0.25\")"
      ],
      "metadata": {
        "id": "UjRHE9kiVcY4"
      },
      "execution_count": null,
      "outputs": []
    },
    {
      "cell_type": "code",
      "source": [
        "plot_degree_and_clustering_networkx(graphSmallWorld6)"
      ],
      "metadata": {
        "id": "DEJk_8srTK1L"
      },
      "execution_count": null,
      "outputs": []
    },
    {
      "cell_type": "code",
      "source": [
        "draw_plot_networkx(graphSmallWorld7, \"Watts-Strogatz graph with k = 8 and p = 0.5\")"
      ],
      "metadata": {
        "id": "I3Gu8qShTQ3b"
      },
      "execution_count": null,
      "outputs": []
    },
    {
      "cell_type": "code",
      "source": [
        "draw_circular_networkx(graphSmallWorld1, \"Watts-Strogatz graph with k = 8 and p = 0.5\")"
      ],
      "metadata": {
        "id": "MOUYBldZVc83"
      },
      "execution_count": null,
      "outputs": []
    },
    {
      "cell_type": "code",
      "source": [
        "plot_degree_and_clustering_networkx(graphSmallWorld7)"
      ],
      "metadata": {
        "id": "6E84sXyaTQ1Q"
      },
      "execution_count": null,
      "outputs": []
    },
    {
      "cell_type": "code",
      "source": [
        "draw_plot_networkx(graphSmallWorld8, \"Watts-Strogatz graph with k = 8 and p = 0.75\")"
      ],
      "metadata": {
        "id": "gkmzEBFuTQyc"
      },
      "execution_count": null,
      "outputs": []
    },
    {
      "cell_type": "code",
      "source": [
        "draw_circular_networkx(graphSmallWorld1, \"Watts-Strogatz graph with k = 8 and p = 0.75\")"
      ],
      "metadata": {
        "id": "YGSBoe0iVde7"
      },
      "execution_count": null,
      "outputs": []
    },
    {
      "cell_type": "code",
      "source": [
        "plot_degree_and_clustering_networkx(graphSmallWorld8)"
      ],
      "metadata": {
        "id": "Z5_x-ZIjTQwJ"
      },
      "execution_count": null,
      "outputs": []
    },
    {
      "cell_type": "code",
      "source": [
        "draw_plot_networkx(graphSmallWorld9, \"Watts-Strogatz graph with k = 8 and p = 0.25\")"
      ],
      "metadata": {
        "id": "BItABr6hTQtM"
      },
      "execution_count": null,
      "outputs": []
    },
    {
      "cell_type": "code",
      "source": [
        "draw_circular_networkx(graphSmallWorld1, \"Watts-Strogatz graph with k = 8 and p = 0.25\")"
      ],
      "metadata": {
        "id": "Doc-z2-aVeEG"
      },
      "execution_count": null,
      "outputs": []
    },
    {
      "cell_type": "code",
      "source": [
        "plot_degree_and_clustering_networkx(graphSmallWorld9)"
      ],
      "metadata": {
        "id": "cRKMs86lTQqi"
      },
      "execution_count": null,
      "outputs": []
    },
    {
      "cell_type": "code",
      "source": [
        "#Question (b)"
      ],
      "metadata": {
        "id": "OHayM041TQns"
      },
      "execution_count": null,
      "outputs": []
    },
    {
      "cell_type": "code",
      "source": [],
      "metadata": {
        "id": "6AF-3vafTQk1"
      },
      "execution_count": null,
      "outputs": []
    },
    {
      "cell_type": "code",
      "source": [
        "#Question (c)"
      ],
      "metadata": {
        "id": "NjQMJG6yTQhz"
      },
      "execution_count": null,
      "outputs": []
    },
    {
      "cell_type": "code",
      "source": [
        "completeGraph5 = nx.complete_graph(5)\n",
        "completeGraph15 = nx.complete_graph(15)\n",
        "completeGraph45 = nx.complete_graph(45)"
      ],
      "metadata": {
        "id": "4NE1NfrnTQfJ"
      },
      "execution_count": 14,
      "outputs": []
    },
    {
      "cell_type": "code",
      "source": [
        "graphBA1 = nx.barabasi_albert_graph(numberOfNodes, 3, initial_graph=completeGraph5)\n",
        "graphBA2 = nx.barabasi_albert_graph(numberOfNodes, 3, initial_graph=completeGraph5)\n",
        "graphBA3 = nx.barabasi_albert_graph(numberOfNodes, 3, initial_graph=completeGraph5)\n",
        "\n",
        "graphBA4 = nx.barabasi_albert_graph(numberOfNodes, 9, initial_graph=completeGraph15)\n",
        "graphBA5 = nx.barabasi_albert_graph(numberOfNodes, 9, initial_graph=completeGraph15)\n",
        "graphBA6 = nx.barabasi_albert_graph(numberOfNodes, 9, initial_graph=completeGraph15)\n",
        "\n",
        "graphBA7 = nx.barabasi_albert_graph(numberOfNodes, 27, initial_graph=completeGraph45)\n",
        "graphBA8 = nx.barabasi_albert_graph(numberOfNodes, 27, initial_graph=completeGraph45)\n",
        "graphBA9 = nx.barabasi_albert_graph(numberOfNodes, 27, initial_graph=completeGraph45)"
      ],
      "metadata": {
        "id": "c6V73jSxTQcg"
      },
      "execution_count": 15,
      "outputs": []
    },
    {
      "cell_type": "code",
      "source": [
        "draw_plot_networkx(graphBA1, \"Barabasi-Albert graph with m_0 = 5 and m = 3\")"
      ],
      "metadata": {
        "id": "Wo9WpxdkTQZy"
      },
      "execution_count": null,
      "outputs": []
    },
    {
      "cell_type": "code",
      "source": [
        "draw_circular_networkx(graphBA1, \"Barabasi-Albert graph with m_0 = 5 and m = 3\")"
      ],
      "metadata": {
        "id": "lSoYvFvFVfhX"
      },
      "execution_count": null,
      "outputs": []
    },
    {
      "cell_type": "code",
      "source": [
        "plot_degree_and_clustering_networkx(graphBA1)"
      ],
      "metadata": {
        "id": "rJzZjihnTQXV"
      },
      "execution_count": null,
      "outputs": []
    },
    {
      "cell_type": "code",
      "source": [
        "draw_plot_networkx(graphBA2, \"Barabasi-Albert graph with m_0 = 15 and m = 3\")"
      ],
      "metadata": {
        "id": "FphXsBImTQUb"
      },
      "execution_count": null,
      "outputs": []
    },
    {
      "cell_type": "code",
      "source": [
        "draw_circular_networkx(graphBA1, \"Barabasi-Albert graph with m_0 = 5 and m = 3\")"
      ],
      "metadata": {
        "id": "atSc9Zx_VlRo"
      },
      "execution_count": null,
      "outputs": []
    },
    {
      "cell_type": "code",
      "source": [
        "plot_degree_and_clustering_networkx(graphBA2)"
      ],
      "metadata": {
        "id": "jv6O9JuZTQRp"
      },
      "execution_count": null,
      "outputs": []
    },
    {
      "cell_type": "code",
      "source": [
        "draw_plot_networkx(graphBA3, \"Barabasi-Albert graph with m_0 = 45 and m = 3\")"
      ],
      "metadata": {
        "id": "iIAK5uJjTQOz"
      },
      "execution_count": null,
      "outputs": []
    },
    {
      "cell_type": "code",
      "source": [
        "draw_circular_networkx(graphBA1, \"Barabasi-Albert graph with m_0 = 5 and m = 3\")"
      ],
      "metadata": {
        "id": "60lWH9poVlv3"
      },
      "execution_count": null,
      "outputs": []
    },
    {
      "cell_type": "code",
      "source": [
        "plot_degree_and_clustering_networkx(graphBA3)"
      ],
      "metadata": {
        "id": "_3uc50TPTQMD"
      },
      "execution_count": null,
      "outputs": []
    },
    {
      "cell_type": "code",
      "source": [
        "draw_plot_networkx(graphBA4, \"Barabasi-Albert graph with m_0 = 5 and m = 9\")"
      ],
      "metadata": {
        "id": "Tg_YtFJUTQJh"
      },
      "execution_count": null,
      "outputs": []
    },
    {
      "cell_type": "code",
      "source": [
        "draw_circular_networkx(graphBA1, \"Barabasi-Albert graph with m_0 = 5 and m = 3\")"
      ],
      "metadata": {
        "id": "rzZ26xkwVmRT"
      },
      "execution_count": null,
      "outputs": []
    },
    {
      "cell_type": "code",
      "source": [
        "plot_degree_and_clustering_networkx(graphBA4)"
      ],
      "metadata": {
        "id": "P_QyLs-FTQG_"
      },
      "execution_count": null,
      "outputs": []
    },
    {
      "cell_type": "code",
      "source": [
        "draw_plot_networkx(graphBA5, \"Barabasi-Albert graph with m_0 = 15 and m = 9\")"
      ],
      "metadata": {
        "id": "z8NTzNl4TQEU"
      },
      "execution_count": null,
      "outputs": []
    },
    {
      "cell_type": "code",
      "source": [
        "draw_circular_networkx(graphBA1, \"Barabasi-Albert graph with m_0 = 5 and m = 3\")"
      ],
      "metadata": {
        "id": "lTMGW6YgVmvm"
      },
      "execution_count": null,
      "outputs": []
    },
    {
      "cell_type": "code",
      "source": [
        "plot_degree_and_clustering_networkx(graphBA5)"
      ],
      "metadata": {
        "id": "lVE17l6jTQB-"
      },
      "execution_count": null,
      "outputs": []
    },
    {
      "cell_type": "code",
      "source": [
        "draw_plot_networkx(graphBA6, \"Barabasi-Albert graph with m_0 = 45 and m = 9\")"
      ],
      "metadata": {
        "id": "b3HHQzguTP_c"
      },
      "execution_count": null,
      "outputs": []
    },
    {
      "cell_type": "code",
      "source": [
        "draw_circular_networkx(graphBA1, \"Barabasi-Albert graph with m_0 = 5 and m = 3\")"
      ],
      "metadata": {
        "id": "mfEkAl3vVna-"
      },
      "execution_count": null,
      "outputs": []
    },
    {
      "cell_type": "code",
      "source": [
        "plot_degree_and_clustering_networkx(graphBA6)"
      ],
      "metadata": {
        "id": "ZELQegrLTP8p"
      },
      "execution_count": null,
      "outputs": []
    },
    {
      "cell_type": "code",
      "source": [
        "draw_plot_networkx(graphBA7, \"Barabasi-Albert graph with m_0 = 5 and m = 27\")"
      ],
      "metadata": {
        "id": "YPZyYscHTP56"
      },
      "execution_count": null,
      "outputs": []
    },
    {
      "cell_type": "code",
      "source": [
        "draw_circular_networkx(graphBA1, \"Barabasi-Albert graph with m_0 = 5 and m = 3\")"
      ],
      "metadata": {
        "id": "aHaZ-0D9Vn8R"
      },
      "execution_count": null,
      "outputs": []
    },
    {
      "cell_type": "code",
      "source": [
        "plot_degree_and_clustering_networkx(graphBA7)"
      ],
      "metadata": {
        "id": "AZ-p6x8RTP3J"
      },
      "execution_count": null,
      "outputs": []
    },
    {
      "cell_type": "code",
      "source": [
        "draw_plot_networkx(graphBA8, \"Barabasi-Albert graph with m_0 = 15 and m = 27\")"
      ],
      "metadata": {
        "id": "GgkwXJqaTP07"
      },
      "execution_count": null,
      "outputs": []
    },
    {
      "cell_type": "code",
      "source": [
        "draw_circular_networkx(graphBA1, \"Barabasi-Albert graph with m_0 = 5 and m = 3\")"
      ],
      "metadata": {
        "id": "2GtQUFoaVob9"
      },
      "execution_count": null,
      "outputs": []
    },
    {
      "cell_type": "code",
      "source": [
        "plot_degree_and_clustering_networkx(graphBA8)"
      ],
      "metadata": {
        "id": "bIcdR7kwTPyW"
      },
      "execution_count": null,
      "outputs": []
    },
    {
      "cell_type": "code",
      "source": [
        "draw_plot_networkx(graphBA9, \"Barabasi-Albert graph with m_0 = 45 and m = 27\")"
      ],
      "metadata": {
        "id": "Mgyo4UIATPvi"
      },
      "execution_count": null,
      "outputs": []
    },
    {
      "cell_type": "code",
      "source": [
        "draw_circular_networkx(graphBA1, \"Barabasi-Albert graph with m_0 = 5 and m = 3\")"
      ],
      "metadata": {
        "id": "CZH-FRESVo7_"
      },
      "execution_count": null,
      "outputs": []
    },
    {
      "cell_type": "code",
      "source": [
        "plot_degree_and_clustering_networkx(graphBA9)"
      ],
      "metadata": {
        "id": "2E3IJvyUTPtP"
      },
      "execution_count": null,
      "outputs": []
    },
    {
      "cell_type": "code",
      "source": [
        "#Question (d)"
      ],
      "metadata": {
        "id": "Bb3rD98HTPqi"
      },
      "execution_count": null,
      "outputs": []
    },
    {
      "cell_type": "code",
      "source": [
        "draw_plot_networkx(graphFacebook, \"Facebook graph\")"
      ],
      "metadata": {
        "id": "OTnLamHhTPnz"
      },
      "execution_count": null,
      "outputs": []
    },
    {
      "cell_type": "code",
      "source": [
        "draw_circular_networkx(graphBA1, \"Facebook graph\")"
      ],
      "metadata": {
        "id": "3W0zrun1Vp1u"
      },
      "execution_count": null,
      "outputs": []
    },
    {
      "cell_type": "code",
      "source": [
        "plot_degree_and_clustering_networkx(graphFacebook)"
      ],
      "metadata": {
        "id": "li4IwbR3TPk-"
      },
      "execution_count": null,
      "outputs": []
    },
    {
      "cell_type": "code",
      "source": [
        "draw_plot_networkx(graphTwitter, \"Twitter graph\")"
      ],
      "metadata": {
        "id": "PJ48w-zDTPiM"
      },
      "execution_count": null,
      "outputs": []
    },
    {
      "cell_type": "code",
      "source": [
        "draw_circular_networkx(graphBA1, \"Twitter graph\")"
      ],
      "metadata": {
        "id": "meP94fHiVqcl"
      },
      "execution_count": null,
      "outputs": []
    },
    {
      "cell_type": "code",
      "source": [
        "plot_degree_and_clustering_networkx(graphTwitter)"
      ],
      "metadata": {
        "id": "rPZC_jkzU_nj"
      },
      "execution_count": null,
      "outputs": []
    },
    {
      "cell_type": "code",
      "source": [],
      "metadata": {
        "id": "R91ijUOwU_km"
      },
      "execution_count": null,
      "outputs": []
    }
  ]
}